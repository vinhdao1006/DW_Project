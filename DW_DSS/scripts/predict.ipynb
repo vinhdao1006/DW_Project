{
 "cells": [
  {
   "cell_type": "code",
   "id": "initial_id",
   "metadata": {
    "collapsed": true,
    "ExecuteTime": {
     "end_time": "2024-12-03T00:19:46.485814Z",
     "start_time": "2024-12-03T00:19:46.455591Z"
    }
   },
   "source": [
    "import joblib\n",
    "import numpy as np\n",
    "import pandas as pd\n",
    "\n",
    "\"\"\"\n",
    "To be scale features:\n",
    "\n",
    "['Temperature(F)','Distance(mi)','Humidity(%)','Pressure(in)','Visibility(mi)','Wind_Speed(mph)',\n",
    "'Precipitation(in)','Start_Lng','Start_Lat','Year', 'Month','Weekday','Day','Hour','Minute']\n",
    "\"\"\"\n",
    "\n",
    "np.random.seed(44)\n",
    "basic_info = pd.DataFrame({\n",
    "    \"Temperature(F)\": [np.random.uniform(-10.0, 110.0)],\n",
    "    \"Distance(mi)\": [np.random.uniform(0.1, 500.0)],\n",
    "    \"Humidity(%)\": [np.random.uniform(10.0, 100.0)],\n",
    "    \"Pressure(in)\": [np.random.uniform(28.0, 31.0)],\n",
    "    \"Visibility(mi)\": [np.random.uniform(0.1, 10.0)],\n",
    "    \"Wind_Speed(mph)\": [np.random.uniform(0.0, 50.0)],\n",
    "    \"Precipitation(in)\": [np.random.uniform(0.0, 5.0)],\n",
    "    \"Start_Lng\": [-80.256503],\n",
    "    \"Start_Lat\": [25.756695]\n",
    "})\n",
    "time = pd.DataFrame({\n",
    "    \"Year\": [np.random.randint(2016, 2023)],\n",
    "    \"Month\": [np.random.randint(1, 13)],\n",
    "    \"Weekday\": [np.random.randint(0, 7)],\n",
    "    \"Day\": [np.random.randint(1, 32)],\n",
    "    \"Hour\": [np.random.randint(0, 24)],\n",
    "    \"Minute\": [np.random.randint(0, 60)],\n",
    "})\n",
    "\n",
    "features = ['Temperature(F)','Distance(mi)','Humidity(%)','Pressure(in)','Visibility(mi)','Wind_Speed(mph)',\n",
    "'Precipitation(in)','Start_Lng','Start_Lat','Year', 'Month','Weekday','Day','Hour','Minute']\n",
    "\n",
    "scaler = joblib.load(\"../models/scaler.joblib\")\n",
    "basic_and_time = pd.concat([basic_info, time], axis=1)\n",
    "basic_and_time[features] = scaler.transform(basic_and_time[features])\n",
    "\n",
    "# extract into 2 dataframes\n",
    "# time is last 6 columns\n",
    "\"\"\"basic info follow this order: \n",
    "    Start_Lat\n",
    "    Start_Lng\n",
    "    Distance(mi)\n",
    "    Temperature(F)\n",
    "    Humidity(%)\n",
    "    Pressure(in)\n",
    "    Visibility(mi)\n",
    "    Wind_Speed(mph)\n",
    "    Precipitation(in)\n",
    "\"\"\"\n",
    "basic_info = basic_and_time[['Start_Lat', 'Start_Lng', 'Distance(mi)', 'Temperature(F)', 'Humidity(%)', \n",
    "                             'Pressure(in)', 'Visibility(mi)', 'Wind_Speed(mph)', 'Precipitation(in)']]\n",
    "time = basic_and_time.iloc[:, -6:]\n",
    "\n",
    "# road features: all of them are 0\n",
    "road = pd.DataFrame({\n",
    "    \"Amenity\": [0],\n",
    "    \"Bump\": [0],\n",
    "    \"Crossing\": [0],\n",
    "    \"Give_Way\": [0],\n",
    "    \"Junction\": [0],\n",
    "    \"No_Exit\": [0],\n",
    "    \"Railway\": [0],\n",
    "    \"Roundabout\": [0],\n",
    "    \"Station\": [0],\n",
    "    \"Stop\": [0],\n",
    "    \"Traffic_Calming\": [0],\n",
    "    \"Traffic_Signal\": [0]\n",
    "})\n",
    "\n",
    "\n",
    "wind_columns = [\n",
    "    \"Wind_Direction_E\",\n",
    "    \"Wind_Direction_N\",\n",
    "    \"Wind_Direction_NE\",\n",
    "    \"Wind_Direction_NW\",\n",
    "    \"Wind_Direction_S\",\n",
    "    \"Wind_Direction_SE\",\n",
    "    \"Wind_Direction_SW\",\n",
    "    \"Wind_Direction_Variable\",\n",
    "    \"Wind_Direction_W\"\n",
    "]\n",
    "\n",
    "# Generating a single one-hot encoded row\n",
    "row = [0] * len(wind_columns)\n",
    "index = np.random.randint(0, len(wind_columns))\n",
    "row[index] = 1\n",
    "\n",
    "# Creating a DataFrame\n",
    "wind = pd.DataFrame([row], columns=wind_columns)\n",
    "\n",
    "weather_columns = [\n",
    "    \"Weather_Condition_Cloudy\",\n",
    "    \"Weather_Condition_Fog\",\n",
    "    \"Weather_Condition_Hail\",\n",
    "    \"Weather_Condition_Rain\",\n",
    "    \"Weather_Condition_Sand\",\n",
    "    \"Weather_Condition_Smoke\",\n",
    "    \"Weather_Condition_Snow\",\n",
    "    \"Weather_Condition_Thunderstorm\",\n",
    "    \"Weather_Condition_Tornado\",\n",
    "    \"Weather_Condition_Windy\"\n",
    "]\n",
    "\n",
    "row = [0] * len(weather_columns)\n",
    "index = np.random.randint(0, len(weather_columns))\n",
    "row[index] = 1\n",
    "weather = pd.DataFrame([row], columns=weather_columns)\n",
    "\n",
    "twilight = pd.DataFrame({\n",
    "    \"Civil_Twilight_Night\": [np.random.randint(0, 1)]\n",
    "})\n",
    "\n",
    "# CITY\n",
    "city = pd.DataFrame({\n",
    "    \"City\": ['Miami']\n",
    "})\n",
    "binary_encoder = joblib.load(\"../models/binary_encoder.joblib\")\n",
    "city_enc = binary_encoder.transform(city['City'])\n",
    "\n",
    "data = pd.concat([basic_info, road, time, wind, weather, twilight, city_enc], axis=1)"
   ],
   "outputs": [],
   "execution_count": 26
  },
  {
   "metadata": {
    "ExecuteTime": {
     "end_time": "2024-12-03T00:19:48.361230Z",
     "start_time": "2024-12-03T00:19:48.335268Z"
    }
   },
   "cell_type": "code",
   "source": "data",
   "id": "fdf1426bb5f198d",
   "outputs": [
    {
     "data": {
      "text/plain": [
       "   Start_Lat  Start_Lng  Distance(mi)  Temperature(F)  Humidity(%)  \\\n",
       "0   0.048496   0.781134       0.33532         0.78245     0.767855   \n",
       "\n",
       "   Pressure(in)  Visibility(mi)  Wind_Speed(mph)  Precipitation(in)  Amenity  \\\n",
       "0      0.935984        0.030476         0.131301           0.197087        0   \n",
       "\n",
       "   ...  City_4  City_5  City_6  City_7  City_8  City_9  City_10  City_11  \\\n",
       "0  ...       0       0       0       0       0       0        0        0   \n",
       "\n",
       "   City_12  City_13  \n",
       "0        1        1  \n",
       "\n",
       "[1 rows x 61 columns]"
      ],
      "text/html": [
       "<div>\n",
       "<style scoped>\n",
       "    .dataframe tbody tr th:only-of-type {\n",
       "        vertical-align: middle;\n",
       "    }\n",
       "\n",
       "    .dataframe tbody tr th {\n",
       "        vertical-align: top;\n",
       "    }\n",
       "\n",
       "    .dataframe thead th {\n",
       "        text-align: right;\n",
       "    }\n",
       "</style>\n",
       "<table border=\"1\" class=\"dataframe\">\n",
       "  <thead>\n",
       "    <tr style=\"text-align: right;\">\n",
       "      <th></th>\n",
       "      <th>Start_Lat</th>\n",
       "      <th>Start_Lng</th>\n",
       "      <th>Distance(mi)</th>\n",
       "      <th>Temperature(F)</th>\n",
       "      <th>Humidity(%)</th>\n",
       "      <th>Pressure(in)</th>\n",
       "      <th>Visibility(mi)</th>\n",
       "      <th>Wind_Speed(mph)</th>\n",
       "      <th>Precipitation(in)</th>\n",
       "      <th>Amenity</th>\n",
       "      <th>...</th>\n",
       "      <th>City_4</th>\n",
       "      <th>City_5</th>\n",
       "      <th>City_6</th>\n",
       "      <th>City_7</th>\n",
       "      <th>City_8</th>\n",
       "      <th>City_9</th>\n",
       "      <th>City_10</th>\n",
       "      <th>City_11</th>\n",
       "      <th>City_12</th>\n",
       "      <th>City_13</th>\n",
       "    </tr>\n",
       "  </thead>\n",
       "  <tbody>\n",
       "    <tr>\n",
       "      <th>0</th>\n",
       "      <td>0.048496</td>\n",
       "      <td>0.781134</td>\n",
       "      <td>0.33532</td>\n",
       "      <td>0.78245</td>\n",
       "      <td>0.767855</td>\n",
       "      <td>0.935984</td>\n",
       "      <td>0.030476</td>\n",
       "      <td>0.131301</td>\n",
       "      <td>0.197087</td>\n",
       "      <td>0</td>\n",
       "      <td>...</td>\n",
       "      <td>0</td>\n",
       "      <td>0</td>\n",
       "      <td>0</td>\n",
       "      <td>0</td>\n",
       "      <td>0</td>\n",
       "      <td>0</td>\n",
       "      <td>0</td>\n",
       "      <td>0</td>\n",
       "      <td>1</td>\n",
       "      <td>1</td>\n",
       "    </tr>\n",
       "  </tbody>\n",
       "</table>\n",
       "<p>1 rows × 61 columns</p>\n",
       "</div>"
      ]
     },
     "execution_count": 27,
     "metadata": {},
     "output_type": "execute_result"
    }
   ],
   "execution_count": 27
  },
  {
   "metadata": {
    "ExecuteTime": {
     "end_time": "2024-12-02T18:06:31.048025Z",
     "start_time": "2024-12-02T18:06:27.070549Z"
    }
   },
   "cell_type": "code",
   "source": [
    "# load the model\n",
    "model = joblib.load(\"../models/random_forest_model.joblib\")"
   ],
   "id": "9c0884d43a187054",
   "outputs": [],
   "execution_count": 19
  },
  {
   "metadata": {
    "ExecuteTime": {
     "end_time": "2024-12-03T00:19:59.119808Z",
     "start_time": "2024-12-03T00:19:59.114828Z"
    }
   },
   "cell_type": "code",
   "source": "data.columns = data.columns.astype(str)",
   "id": "b1a0d4c92e8fdf40",
   "outputs": [],
   "execution_count": 28
  },
  {
   "metadata": {
    "ExecuteTime": {
     "end_time": "2024-12-03T00:20:00.784967Z",
     "start_time": "2024-12-03T00:20:00.725226Z"
    }
   },
   "cell_type": "code",
   "source": [
    "# make a prediction\n",
    "prediction = model.predict(data)\n",
    "prediction"
   ],
   "id": "7eb1c3cf57954164",
   "outputs": [
    {
     "data": {
      "text/plain": [
       "array([2], dtype=int64)"
      ]
     },
     "execution_count": 29,
     "metadata": {},
     "output_type": "execute_result"
    }
   ],
   "execution_count": 29
  },
  {
   "metadata": {},
   "cell_type": "code",
   "outputs": [],
   "execution_count": null,
   "source": "",
   "id": "4ca05427ab18de7c"
  }
 ],
 "metadata": {
  "kernelspec": {
   "display_name": "Python 3",
   "language": "python",
   "name": "python3"
  },
  "language_info": {
   "codemirror_mode": {
    "name": "ipython",
    "version": 2
   },
   "file_extension": ".py",
   "mimetype": "text/x-python",
   "name": "python",
   "nbconvert_exporter": "python",
   "pygments_lexer": "ipython2",
   "version": "2.7.6"
  }
 },
 "nbformat": 4,
 "nbformat_minor": 5
}
