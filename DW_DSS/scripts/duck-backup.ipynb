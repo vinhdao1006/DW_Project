{
 "cells": [
  {
   "cell_type": "code",
   "id": "initial_id",
   "metadata": {
    "collapsed": true,
    "ExecuteTime": {
     "end_time": "2024-11-23T15:33:34.343247Z",
     "start_time": "2024-11-23T15:33:34.256656Z"
    }
   },
   "source": [
    "# with open('../data/warehouse/schema.sql', 'r') as sql_file:  # Adjust the path to your load.sql file\n",
    "#     schema_commands = sql_file.read()\n",
    "# con.execute(schema_commands)"
   ],
   "outputs": [
    {
     "data": {
      "text/plain": [
       "<duckdb.duckdb.DuckDBPyConnection at 0x2a2187bd3f0>"
      ]
     },
     "execution_count": 1,
     "metadata": {},
     "output_type": "execute_result"
    }
   ],
   "execution_count": 1
  },
  {
   "metadata": {
    "ExecuteTime": {
     "end_time": "2024-11-23T15:34:08.401774Z",
     "start_time": "2024-11-23T15:33:37.913052Z"
    }
   },
   "cell_type": "code",
   "source": [
    "# with open('../data/warehouse/load.sql', 'r') as sql_file:  # Adjust the path to your load.sql file\n",
    "#     load_commands = sql_file.read()\n",
    "# con.execute(load_commands)"
   ],
   "id": "15eb06b7560972f0",
   "outputs": [
    {
     "data": {
      "text/plain": [
       "FloatProgress(value=0.0, layout=Layout(width='auto'), style=ProgressStyle(bar_color='black'))"
      ],
      "application/vnd.jupyter.widget-view+json": {
       "version_major": 2,
       "version_minor": 0,
       "model_id": "84cb8d31ab8a4eba8b78087f07f4f846"
      }
     },
     "metadata": {},
     "output_type": "display_data"
    },
    {
     "data": {
      "text/plain": [
       "<duckdb.duckdb.DuckDBPyConnection at 0x2a2187bd3f0>"
      ]
     },
     "execution_count": 2,
     "metadata": {},
     "output_type": "execute_result"
    }
   ],
   "execution_count": 2
  },
  {
   "metadata": {
    "ExecuteTime": {
     "end_time": "2024-11-23T16:23:12.348854Z",
     "start_time": "2024-11-23T16:23:12.344957Z"
    }
   },
   "cell_type": "code",
   "source": [
    "import sys\n",
    "\n",
    "import duckdb\n",
    "con = duckdb.connect('../data/warehouse.duckdb')"
   ],
   "id": "7c1c90f147fc0437",
   "outputs": [],
   "execution_count": 8
  },
  {
   "metadata": {
    "ExecuteTime": {
     "end_time": "2024-11-23T16:34:31.934491Z",
     "start_time": "2024-11-23T16:34:31.928412Z"
    }
   },
   "cell_type": "code",
   "source": [
    "con.execute(\"\"\"\n",
    "SET memory_limit='16GB';\n",
    "SET threads TO 4;\n",
    "\"\"\")"
   ],
   "id": "7ffef53b02d2643d",
   "outputs": [
    {
     "data": {
      "text/plain": [
       "<duckdb.duckdb.DuckDBPyConnection at 0x1cf3c5f8bf0>"
      ]
     },
     "execution_count": 21,
     "metadata": {},
     "output_type": "execute_result"
    }
   ],
   "execution_count": 21
  },
  {
   "metadata": {
    "ExecuteTime": {
     "end_time": "2024-11-23T16:34:34.485817Z",
     "start_time": "2024-11-23T16:34:34.473457Z"
    }
   },
   "cell_type": "code",
   "source": "con.execute(\"SHOW TABLES;\").fetchall()  ",
   "id": "522da251f00f1213",
   "outputs": [
    {
     "data": {
      "text/plain": [
       "[('accident',),\n",
       " ('environment',),\n",
       " ('location',),\n",
       " ('twilight',),\n",
       " ('weather',),\n",
       " ('wind',)]"
      ]
     },
     "execution_count": 22,
     "metadata": {},
     "output_type": "execute_result"
    }
   ],
   "execution_count": 22
  },
  {
   "metadata": {
    "ExecuteTime": {
     "end_time": "2024-11-23T15:34:14.341926Z",
     "start_time": "2024-11-23T15:34:14.278909Z"
    }
   },
   "cell_type": "code",
   "source": [
    "con.execute(\"\"\"CREATE UNIQUE INDEX idx_enviroment_id ON \"environment\" (Environment_ID);\"\"\")\n",
    "con.execute(\"\"\"CREATE UNIQUE INDEX idx_location_id ON \"location\" (Location_ID);\"\"\")\n",
    "con.execute(\"\"\"CREATE UNIQUE INDEX idx_twilight_id ON \"twilight\" (Twilight_ID);\"\"\")\n",
    "con.execute(\"\"\"CREATE UNIQUE INDEX idx_weather_id ON \"weather\" (Weather_Condition_ID);\"\"\")\n",
    "con.execute(\"\"\"CREATE UNIQUE INDEX idx_wind_id ON \"wind\" (Wind_Direction_ID);\"\"\")"
   ],
   "id": "2144f281a7e6a4f4",
   "outputs": [
    {
     "data": {
      "text/plain": [
       "<duckdb.duckdb.DuckDBPyConnection at 0x2a2187bd3f0>"
      ]
     },
     "execution_count": 4,
     "metadata": {},
     "output_type": "execute_result"
    }
   ],
   "execution_count": 4
  },
  {
   "metadata": {
    "ExecuteTime": {
     "end_time": "2024-11-23T15:34:31.276221Z",
     "start_time": "2024-11-23T15:34:30.428904Z"
    }
   },
   "cell_type": "code",
   "source": "con.execute(\"CREATE INDEX idx_accident_id ON accident (Accident_ID);\")",
   "id": "65fc14bfe2f3b4df",
   "outputs": [
    {
     "data": {
      "text/plain": [
       "<duckdb.duckdb.DuckDBPyConnection at 0x2a2187bd3f0>"
      ]
     },
     "execution_count": 5,
     "metadata": {},
     "output_type": "execute_result"
    }
   ],
   "execution_count": 5
  },
  {
   "metadata": {
    "ExecuteTime": {
     "end_time": "2024-11-23T15:35:38.233229Z",
     "start_time": "2024-11-23T15:35:34.623484Z"
    }
   },
   "cell_type": "code",
   "source": "con.execute(\"CREATE INDEX idx_start_time ON accident (Start_Time);\")",
   "id": "b77caac5a966895c",
   "outputs": [
    {
     "data": {
      "text/plain": [
       "<duckdb.duckdb.DuckDBPyConnection at 0x2a2187bd3f0>"
      ]
     },
     "execution_count": 6,
     "metadata": {},
     "output_type": "execute_result"
    }
   ],
   "execution_count": 6
  },
  {
   "metadata": {
    "ExecuteTime": {
     "end_time": "2024-11-23T16:35:18.511956Z",
     "start_time": "2024-11-23T16:35:17.817053Z"
    }
   },
   "cell_type": "code",
   "source": "res = con.execute(\"SELECT Accident_ID, Start_Lat, Start_Lng, Severity FROM accident WHERE Start_Time BETWEEN '2019-10-05' AND '2022-12-31';\").df()",
   "id": "1db7da98f86ab7e0",
   "outputs": [],
   "execution_count": 24
  },
  {
   "metadata": {
    "ExecuteTime": {
     "end_time": "2024-11-23T16:36:03.833853Z",
     "start_time": "2024-11-23T16:36:03.829704Z"
    }
   },
   "cell_type": "code",
   "source": "res.shape[0]",
   "id": "66fa0d5b4aa1accf",
   "outputs": [
    {
     "data": {
      "text/plain": [
       "4598925"
      ]
     },
     "execution_count": 26,
     "metadata": {},
     "output_type": "execute_result"
    }
   ],
   "execution_count": 26
  },
  {
   "metadata": {
    "ExecuteTime": {
     "end_time": "2024-11-23T16:38:04.352221Z",
     "start_time": "2024-11-23T16:38:04.345717Z"
    }
   },
   "cell_type": "code",
   "source": "print(res)",
   "id": "d4a441769eba5749",
   "outputs": [
    {
     "name": "stdout",
     "output_type": "stream",
     "text": [
      "         Accident_ID  Start_Lat   Start_Lng  Severity\n",
      "0            5337731  40.301935 -109.810405         2\n",
      "1            6271420  45.763760  -93.618744         2\n",
      "2            6384165  45.763760  -93.618744         2\n",
      "3            3006827  27.863388  -82.638733         2\n",
      "4            5592800  44.949114  -95.391342         2\n",
      "...              ...        ...         ...       ...\n",
      "4598920      6476608  38.787145  -90.533167         2\n",
      "4598921      6544779  38.787145  -90.533167         2\n",
      "4598922      6562163  38.787145  -90.533167         2\n",
      "4598923      6584424  38.783884  -90.532719         2\n",
      "4598924      4257947  30.196539  -97.860261         2\n",
      "\n",
      "[4598925 rows x 4 columns]\n"
     ]
    }
   ],
   "execution_count": 27
  },
  {
   "metadata": {},
   "cell_type": "code",
   "outputs": [],
   "execution_count": null,
   "source": "",
   "id": "19da267469bebdbe"
  }
 ],
 "metadata": {
  "kernelspec": {
   "display_name": "Python 3",
   "language": "python",
   "name": "python3"
  },
  "language_info": {
   "codemirror_mode": {
    "name": "ipython",
    "version": 2
   },
   "file_extension": ".py",
   "mimetype": "text/x-python",
   "name": "python",
   "nbconvert_exporter": "python",
   "pygments_lexer": "ipython2",
   "version": "2.7.6"
  }
 },
 "nbformat": 4,
 "nbformat_minor": 5
}
