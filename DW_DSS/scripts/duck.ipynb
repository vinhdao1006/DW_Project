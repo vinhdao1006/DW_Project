{
 "cells": [
  {
   "metadata": {
    "ExecuteTime": {
     "end_time": "2024-11-22T16:10:26.285574Z",
     "start_time": "2024-11-22T16:10:26.203673Z"
    }
   },
   "cell_type": "code",
   "source": [
    "import duckdb\n",
    "\n",
    "con = duckdb.connect()"
   ],
   "id": "63a39e261977b33b",
   "outputs": [],
   "execution_count": 1
  },
  {
   "metadata": {
    "ExecuteTime": {
     "end_time": "2024-11-22T16:10:27.585070Z",
     "start_time": "2024-11-22T16:10:27.573573Z"
    }
   },
   "cell_type": "code",
   "source": [
    "con.execute(\"\"\"\n",
    "CREATE TABLE environment (\n",
    "    Amenity BOOLEAN,\n",
    "    Bump BOOLEAN,\n",
    "    Crossing BOOLEAN,\n",
    "    Give_Way BOOLEAN,\n",
    "    Junction BOOLEAN,\n",
    "    No_Exit BOOLEAN,\n",
    "    Railway BOOLEAN,\n",
    "    Roundabout BOOLEAN,\n",
    "    Station BOOLEAN,\n",
    "    Stop BOOLEAN,\n",
    "    Traffic_Calming BOOLEAN,\n",
    "    Traffic_Signal BOOLEAN,\n",
    "    Turning_Loop BOOLEAN,\n",
    "    Environment_ID INTEGER PRIMARY KEY\n",
    ");\n",
    "\n",
    "CREATE TABLE location (\n",
    "    Street VARCHAR,\n",
    "    City VARCHAR,\n",
    "    County VARCHAR,\n",
    "    State CHAR(2),\n",
    "    Location_ID INTEGER PRIMARY KEY\n",
    ");\n",
    "\n",
    "CREATE TABLE twilight (\n",
    "    Sunrise_Sunset VARCHAR,\n",
    "    Civil_Twilight VARCHAR,\n",
    "    Nautical_Twilight VARCHAR,\n",
    "    Astronomical_Twilight VARCHAR,\n",
    "    Twilight_ID INTEGER PRIMARY KEY\n",
    ");\n",
    "\n",
    "\n",
    "CREATE TABLE weather (\n",
    "    Weather_Condition VARCHAR,\n",
    "    Weather_Condition_ID INTEGER PRIMARY KEY\n",
    ");\n",
    "\n",
    "CREATE TABLE wind (\n",
    "    Wind_Direction VARCHAR,\n",
    "    Wind_Direction_ID INTEGER PRIMARY KEY\n",
    ");\n",
    "\n",
    "CREATE TABLE accident (\n",
    "    Accident_ID BIGINT PRIMARY KEY,        -- Use BIGINT for large IDs\n",
    "    Severity INTEGER,\n",
    "    Start_Time TIMESTAMP,\n",
    "    End_Time TIMESTAMP,\n",
    "    Start_Lat DECIMAL(10, 7),              -- High precision for latitude/longitude\n",
    "    Start_Lng DECIMAL(10, 7),\n",
    "    End_Lat DECIMAL(10, 7),\n",
    "    End_Lng DECIMAL(10, 7),\n",
    "    Distance_mi DECIMAL(5, 2),            -- Distance in miles, up to 999.99\n",
    "    Weather_Timestamp TIMESTAMP,\n",
    "    Temperature_F DECIMAL(8, 2),          -- Temperature in Fahrenheit\n",
    "    Humidity_percent DECIMAL(8, 2),       -- Percentage values\n",
    "    Wind_Speed_mph DECIMAL(8, 2),         -- Wind speed in mph\n",
    "    Precipitation_in DECIMAL(8, 2),       -- Precipitation in inches\n",
    "    Visibility_mi DECIMAL(8, 2),          -- Visibility in miles\n",
    "    Location_ID INTEGER REFERENCES location(Location_ID),\n",
    "    Weather_Condition_ID INTEGER REFERENCES weather(Weather_Condition_ID),\n",
    "    Wind_Direction_ID INTEGER REFERENCES wind(Wind_Direction_ID),\n",
    "    Environment_ID INTEGER REFERENCES environment(Environment_ID),\n",
    "    Twilight_ID INTEGER REFERENCES twilight(Twilight_ID)\n",
    ");\n",
    "\"\"\")"
   ],
   "id": "e20265489c60f2ca",
   "outputs": [
    {
     "data": {
      "text/plain": [
       "<duckdb.duckdb.DuckDBPyConnection at 0x17f3bb0e970>"
      ]
     },
     "execution_count": 2,
     "metadata": {},
     "output_type": "execute_result"
    }
   ],
   "execution_count": 2
  },
  {
   "metadata": {
    "ExecuteTime": {
     "end_time": "2024-11-22T16:11:00.190195Z",
     "start_time": "2024-11-22T16:10:29.021519Z"
    }
   },
   "cell_type": "code",
   "source": [
    "con.execute(\"\"\"\n",
    "COPY environment FROM '../data/environment_dim.csv' (AUTO_DETECT TRUE);\n",
    "COPY location FROM '../data/location_dim.csv' (AUTO_DETECT TRUE);\n",
    "COPY twilight FROM '../data/twilight_dim.csv' (AUTO_DETECT TRUE);\n",
    "COPY weather FROM '../data/weather_condition_dim.csv' (AUTO_DETECT TRUE);\n",
    "COPY wind FROM '../data/wind_direction_dim.csv' (AUTO_DETECT TRUE);\n",
    "COPY accident FROM '../data/accident_fact.csv' (AUTO_DETECT TRUE);\n",
    "\"\"\")"
   ],
   "id": "df60894e6c086c99",
   "outputs": [
    {
     "data": {
      "text/plain": [
       "FloatProgress(value=0.0, layout=Layout(width='auto'), style=ProgressStyle(bar_color='black'))"
      ],
      "application/vnd.jupyter.widget-view+json": {
       "version_major": 2,
       "version_minor": 0,
       "model_id": "5a055d5791c947349154405f3074eb20"
      }
     },
     "metadata": {},
     "output_type": "display_data"
    },
    {
     "data": {
      "text/plain": [
       "<duckdb.duckdb.DuckDBPyConnection at 0x17f3bb0e970>"
      ]
     },
     "execution_count": 3,
     "metadata": {},
     "output_type": "execute_result"
    }
   ],
   "execution_count": 3
  },
  {
   "metadata": {
    "ExecuteTime": {
     "end_time": "2024-11-22T16:11:33.836004Z",
     "start_time": "2024-11-22T16:11:33.342016Z"
    }
   },
   "cell_type": "code",
   "source": [
    "result = con.execute(\"SELECT * FROM accident LIMIT 5;\").fetchdf()\n",
    "result"
   ],
   "id": "189a5cf862bad901",
   "outputs": [
    {
     "data": {
      "text/plain": [
       "   Accident_ID  Severity          Start_Time            End_Time  Start_Lat  \\\n",
       "0      5337731         2 2021-11-27 05:42:00 2021-11-27 07:00:22  40.301935   \n",
       "1      6271420         2 2020-10-11 05:56:25 2020-10-11 07:11:33  45.763760   \n",
       "2      6384165         2 2020-10-11 05:56:25 2020-10-11 08:56:37  45.763760   \n",
       "3      3006827         2 2022-04-07 20:56:51 2022-04-07 22:16:03  27.863388   \n",
       "4      5592800         2 2021-04-13 21:34:11 2021-04-14 00:55:20  44.949114   \n",
       "\n",
       "    Start_Lng    End_Lat     End_Lng  Distance_mi   Weather_Timestamp  \\\n",
       "0 -109.810405  40.301952 -109.806051         0.23 2021-11-27 05:53:00   \n",
       "1  -93.618744  45.763824  -93.618561         0.01 2020-10-11 05:55:00   \n",
       "2  -93.618744  45.765732  -93.613197         0.30 2020-10-11 05:55:00   \n",
       "3  -82.638733  27.864005  -82.638726         0.04 2022-04-07 20:53:00   \n",
       "4  -95.391342  44.949061  -95.384310         0.34 2021-04-13 21:35:00   \n",
       "\n",
       "   Temperature_F  Humidity_percent  Wind_Speed_mph  Precipitation_in  \\\n",
       "0           21.0              71.0             7.0               0.0   \n",
       "1           46.0              81.0            10.0               0.0   \n",
       "2           46.0              81.0            10.0               0.0   \n",
       "3           71.0              93.0             6.0               0.0   \n",
       "4           30.0              86.0            15.0               0.0   \n",
       "\n",
       "   Visibility_mi  Location_ID  Weather_Condition_ID  Wind_Direction_ID  \\\n",
       "0           10.0           19                     2                 11   \n",
       "1           10.0           21                     2                  3   \n",
       "2           10.0           21                     2                  3   \n",
       "3           10.0           25                     3                 11   \n",
       "4           10.0           28                     3                 11   \n",
       "\n",
       "   Environment_ID  Twilight_ID  \n",
       "0               1           10  \n",
       "1               1           10  \n",
       "2               1           10  \n",
       "3               1           10  \n",
       "4               1           10  "
      ],
      "text/html": [
       "<div>\n",
       "<style scoped>\n",
       "    .dataframe tbody tr th:only-of-type {\n",
       "        vertical-align: middle;\n",
       "    }\n",
       "\n",
       "    .dataframe tbody tr th {\n",
       "        vertical-align: top;\n",
       "    }\n",
       "\n",
       "    .dataframe thead th {\n",
       "        text-align: right;\n",
       "    }\n",
       "</style>\n",
       "<table border=\"1\" class=\"dataframe\">\n",
       "  <thead>\n",
       "    <tr style=\"text-align: right;\">\n",
       "      <th></th>\n",
       "      <th>Accident_ID</th>\n",
       "      <th>Severity</th>\n",
       "      <th>Start_Time</th>\n",
       "      <th>End_Time</th>\n",
       "      <th>Start_Lat</th>\n",
       "      <th>Start_Lng</th>\n",
       "      <th>End_Lat</th>\n",
       "      <th>End_Lng</th>\n",
       "      <th>Distance_mi</th>\n",
       "      <th>Weather_Timestamp</th>\n",
       "      <th>Temperature_F</th>\n",
       "      <th>Humidity_percent</th>\n",
       "      <th>Wind_Speed_mph</th>\n",
       "      <th>Precipitation_in</th>\n",
       "      <th>Visibility_mi</th>\n",
       "      <th>Location_ID</th>\n",
       "      <th>Weather_Condition_ID</th>\n",
       "      <th>Wind_Direction_ID</th>\n",
       "      <th>Environment_ID</th>\n",
       "      <th>Twilight_ID</th>\n",
       "    </tr>\n",
       "  </thead>\n",
       "  <tbody>\n",
       "    <tr>\n",
       "      <th>0</th>\n",
       "      <td>5337731</td>\n",
       "      <td>2</td>\n",
       "      <td>2021-11-27 05:42:00</td>\n",
       "      <td>2021-11-27 07:00:22</td>\n",
       "      <td>40.301935</td>\n",
       "      <td>-109.810405</td>\n",
       "      <td>40.301952</td>\n",
       "      <td>-109.806051</td>\n",
       "      <td>0.23</td>\n",
       "      <td>2021-11-27 05:53:00</td>\n",
       "      <td>21.0</td>\n",
       "      <td>71.0</td>\n",
       "      <td>7.0</td>\n",
       "      <td>0.0</td>\n",
       "      <td>10.0</td>\n",
       "      <td>19</td>\n",
       "      <td>2</td>\n",
       "      <td>11</td>\n",
       "      <td>1</td>\n",
       "      <td>10</td>\n",
       "    </tr>\n",
       "    <tr>\n",
       "      <th>1</th>\n",
       "      <td>6271420</td>\n",
       "      <td>2</td>\n",
       "      <td>2020-10-11 05:56:25</td>\n",
       "      <td>2020-10-11 07:11:33</td>\n",
       "      <td>45.763760</td>\n",
       "      <td>-93.618744</td>\n",
       "      <td>45.763824</td>\n",
       "      <td>-93.618561</td>\n",
       "      <td>0.01</td>\n",
       "      <td>2020-10-11 05:55:00</td>\n",
       "      <td>46.0</td>\n",
       "      <td>81.0</td>\n",
       "      <td>10.0</td>\n",
       "      <td>0.0</td>\n",
       "      <td>10.0</td>\n",
       "      <td>21</td>\n",
       "      <td>2</td>\n",
       "      <td>3</td>\n",
       "      <td>1</td>\n",
       "      <td>10</td>\n",
       "    </tr>\n",
       "    <tr>\n",
       "      <th>2</th>\n",
       "      <td>6384165</td>\n",
       "      <td>2</td>\n",
       "      <td>2020-10-11 05:56:25</td>\n",
       "      <td>2020-10-11 08:56:37</td>\n",
       "      <td>45.763760</td>\n",
       "      <td>-93.618744</td>\n",
       "      <td>45.765732</td>\n",
       "      <td>-93.613197</td>\n",
       "      <td>0.30</td>\n",
       "      <td>2020-10-11 05:55:00</td>\n",
       "      <td>46.0</td>\n",
       "      <td>81.0</td>\n",
       "      <td>10.0</td>\n",
       "      <td>0.0</td>\n",
       "      <td>10.0</td>\n",
       "      <td>21</td>\n",
       "      <td>2</td>\n",
       "      <td>3</td>\n",
       "      <td>1</td>\n",
       "      <td>10</td>\n",
       "    </tr>\n",
       "    <tr>\n",
       "      <th>3</th>\n",
       "      <td>3006827</td>\n",
       "      <td>2</td>\n",
       "      <td>2022-04-07 20:56:51</td>\n",
       "      <td>2022-04-07 22:16:03</td>\n",
       "      <td>27.863388</td>\n",
       "      <td>-82.638733</td>\n",
       "      <td>27.864005</td>\n",
       "      <td>-82.638726</td>\n",
       "      <td>0.04</td>\n",
       "      <td>2022-04-07 20:53:00</td>\n",
       "      <td>71.0</td>\n",
       "      <td>93.0</td>\n",
       "      <td>6.0</td>\n",
       "      <td>0.0</td>\n",
       "      <td>10.0</td>\n",
       "      <td>25</td>\n",
       "      <td>3</td>\n",
       "      <td>11</td>\n",
       "      <td>1</td>\n",
       "      <td>10</td>\n",
       "    </tr>\n",
       "    <tr>\n",
       "      <th>4</th>\n",
       "      <td>5592800</td>\n",
       "      <td>2</td>\n",
       "      <td>2021-04-13 21:34:11</td>\n",
       "      <td>2021-04-14 00:55:20</td>\n",
       "      <td>44.949114</td>\n",
       "      <td>-95.391342</td>\n",
       "      <td>44.949061</td>\n",
       "      <td>-95.384310</td>\n",
       "      <td>0.34</td>\n",
       "      <td>2021-04-13 21:35:00</td>\n",
       "      <td>30.0</td>\n",
       "      <td>86.0</td>\n",
       "      <td>15.0</td>\n",
       "      <td>0.0</td>\n",
       "      <td>10.0</td>\n",
       "      <td>28</td>\n",
       "      <td>3</td>\n",
       "      <td>11</td>\n",
       "      <td>1</td>\n",
       "      <td>10</td>\n",
       "    </tr>\n",
       "  </tbody>\n",
       "</table>\n",
       "</div>"
      ]
     },
     "execution_count": 4,
     "metadata": {},
     "output_type": "execute_result"
    }
   ],
   "execution_count": 4
  },
  {
   "metadata": {
    "ExecuteTime": {
     "end_time": "2024-11-22T16:16:24.974454Z",
     "start_time": "2024-11-22T16:16:23.487002Z"
    }
   },
   "cell_type": "code",
   "source": [
    "con.execute(\"\"\"\n",
    "EXPORT DATABASE '../data/warehouse';\n",
    "\"\"\")"
   ],
   "id": "ec58ad1f9702aa9e",
   "outputs": [
    {
     "data": {
      "text/plain": [
       "<duckdb.duckdb.DuckDBPyConnection at 0x17f3bb0e970>"
      ]
     },
     "execution_count": 5,
     "metadata": {},
     "output_type": "execute_result"
    }
   ],
   "execution_count": 5
  }
 ],
 "metadata": {
  "kernelspec": {
   "display_name": "Python 3",
   "language": "python",
   "name": "python3"
  },
  "language_info": {
   "codemirror_mode": {
    "name": "ipython",
    "version": 2
   },
   "file_extension": ".py",
   "mimetype": "text/x-python",
   "name": "python",
   "nbconvert_exporter": "python",
   "pygments_lexer": "ipython2",
   "version": "2.7.6"
  }
 },
 "nbformat": 4,
 "nbformat_minor": 5
}
