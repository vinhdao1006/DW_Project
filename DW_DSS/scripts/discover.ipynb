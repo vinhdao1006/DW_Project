{
 "cells": [
  {
   "cell_type": "code",
   "id": "initial_id",
   "metadata": {
    "collapsed": true,
    "ExecuteTime": {
     "end_time": "2024-11-23T18:25:37.530863Z",
     "start_time": "2024-11-23T18:25:13.426216Z"
    }
   },
   "source": [
    "from pyspark.sql import SparkSession, Window\n",
    "\n",
    "import os\n",
    "import sys\n",
    "\n",
    "os.environ['PYSPARK_PYTHON'] = sys.executable\n",
    "os.environ['PYSPARK_DRIVER_PYTHON'] = sys.executable\n",
    "\n",
    "# Initialize Spark session\n",
    "spark = (SparkSession.builder.appName(\"DataProcessingApp\")\n",
    "         .config(\"spark.executor.memory\", \"8g\")\n",
    "         .config(\"spark.driver.memory\", \"8g\")\n",
    "         .config(\"spark.driver.maxResultSize\", \"4g\")\n",
    "         .getOrCreate())\n",
    "spark.sparkContext.setLogLevel(\"DEBUG\")\n",
    "\n",
    "# Read the CSV file into a DataFrame\n",
    "df = spark.read.csv('../data/US_Accidents_March23.csv', header=True, inferSchema=True)\n",
    "df.show(5)"
   ],
   "outputs": [
    {
     "name": "stdout",
     "output_type": "stream",
     "text": [
      "+---+-------+--------+-------------------+-------------------+-----------------+------------------+-------+-------+------------+--------------------+--------------------+------------+----------+-----+----------+-------+----------+------------+-------------------+--------------+-------------+-----------+------------+--------------+--------------+---------------+-----------------+-----------------+-------+-----+--------+--------+--------+-------+-------+----------+-------+-----+---------------+--------------+------------+--------------+--------------+-----------------+---------------------+\n",
      "| ID| Source|Severity|         Start_Time|           End_Time|        Start_Lat|         Start_Lng|End_Lat|End_Lng|Distance(mi)|         Description|              Street|        City|    County|State|   Zipcode|Country|  Timezone|Airport_Code|  Weather_Timestamp|Temperature(F)|Wind_Chill(F)|Humidity(%)|Pressure(in)|Visibility(mi)|Wind_Direction|Wind_Speed(mph)|Precipitation(in)|Weather_Condition|Amenity| Bump|Crossing|Give_Way|Junction|No_Exit|Railway|Roundabout|Station| Stop|Traffic_Calming|Traffic_Signal|Turning_Loop|Sunrise_Sunset|Civil_Twilight|Nautical_Twilight|Astronomical_Twilight|\n",
      "+---+-------+--------+-------------------+-------------------+-----------------+------------------+-------+-------+------------+--------------------+--------------------+------------+----------+-----+----------+-------+----------+------------+-------------------+--------------+-------------+-----------+------------+--------------+--------------+---------------+-----------------+-----------------+-------+-----+--------+--------+--------+-------+-------+----------+-------+-----+---------------+--------------+------------+--------------+--------------+-----------------+---------------------+\n",
      "|A-1|Source2|       3|2016-02-08 05:46:00|2016-02-08 11:00:00|        39.865147|        -84.058723|   NULL|   NULL|        0.01|Right lane blocke...|              I-70 E|      Dayton|Montgomery|   OH|     45424|     US|US/Eastern|        KFFO|2016-02-08 05:58:00|          36.9|         NULL|       91.0|       29.68|          10.0|          Calm|           NULL|             0.02|       Light Rain|  false|false|   false|   false|   false|  false|  false|     false|  false|false|          false|         false|       false|         Night|         Night|            Night|                Night|\n",
      "|A-2|Source2|       2|2016-02-08 06:07:59|2016-02-08 06:37:59|39.92805900000001|        -82.831184|   NULL|   NULL|        0.01|Accident on Brice...|            Brice Rd|Reynoldsburg|  Franklin|   OH|43068-3402|     US|US/Eastern|        KCMH|2016-02-08 05:51:00|          37.9|         NULL|      100.0|       29.65|          10.0|          Calm|           NULL|              0.0|       Light Rain|  false|false|   false|   false|   false|  false|  false|     false|  false|false|          false|         false|       false|         Night|         Night|            Night|                  Day|\n",
      "|A-3|Source2|       2|2016-02-08 06:49:27|2016-02-08 07:19:27|        39.063148|        -84.032608|   NULL|   NULL|        0.01|Accident on OH-32...|      State Route 32|Williamsburg|  Clermont|   OH|     45176|     US|US/Eastern|        KI69|2016-02-08 06:56:00|          36.0|         33.3|      100.0|       29.67|          10.0|            SW|            3.5|             NULL|         Overcast|  false|false|   false|   false|   false|  false|  false|     false|  false|false|          false|          true|       false|         Night|         Night|              Day|                  Day|\n",
      "|A-4|Source2|       3|2016-02-08 07:23:34|2016-02-08 07:53:34|        39.747753|-84.20558199999998|   NULL|   NULL|        0.01|Accident on I-75 ...|              I-75 S|      Dayton|Montgomery|   OH|     45417|     US|US/Eastern|        KDAY|2016-02-08 07:38:00|          35.1|         31.0|       96.0|       29.64|           9.0|            SW|            4.6|             NULL|    Mostly Cloudy|  false|false|   false|   false|   false|  false|  false|     false|  false|false|          false|         false|       false|         Night|           Day|              Day|                  Day|\n",
      "|A-5|Source2|       2|2016-02-08 07:39:07|2016-02-08 08:09:07|        39.627781|        -84.188354|   NULL|   NULL|        0.01|Accident on McEwe...|Miamisburg Center...|      Dayton|Montgomery|   OH|     45459|     US|US/Eastern|        KMGY|2016-02-08 07:53:00|          36.0|         33.3|       89.0|       29.65|           6.0|            SW|            3.5|             NULL|    Mostly Cloudy|  false|false|   false|   false|   false|  false|  false|     false|  false|false|          false|          true|       false|           Day|           Day|              Day|                  Day|\n",
      "+---+-------+--------+-------------------+-------------------+-----------------+------------------+-------+-------+------------+--------------------+--------------------+------------+----------+-----+----------+-------+----------+------------+-------------------+--------------+-------------+-----------+------------+--------------+--------------+---------------+-----------------+-----------------+-------+-----+--------+--------+--------+-------+-------+----------+-------+-----+---------------+--------------+------------+--------------+--------------+-----------------+---------------------+\n",
      "only showing top 5 rows\n",
      "\n"
     ]
    }
   ],
   "execution_count": 1
  },
  {
   "metadata": {
    "ExecuteTime": {
     "end_time": "2024-11-23T18:27:59.469569Z",
     "start_time": "2024-11-23T18:27:50.182002Z"
    }
   },
   "cell_type": "code",
   "source": [
    "from pyspark.sql.functions import row_number\n",
    "\n",
    "accident_window = Window.orderBy('ID')\n",
    "df = df.withColumn('ID', row_number().over(accident_window))\n",
    "df = df.drop('Source', 'Zipcode', 'Timezone','Airport_Code', 'Country')\n",
    "df.drop_duplicates()\n",
    "df.show(5)"
   ],
   "id": "23d269b912cd2dab",
   "outputs": [
    {
     "name": "stdout",
     "output_type": "stream",
     "text": [
      "+---+--------+-------------------+-------------------+------------------+-------------------+-------+-------+------------+--------------------+--------------+---------------+----------+-----+-------------------+--------------+-------------+-----------+------------+--------------+--------------+---------------+-----------------+-----------------+-------+-----+--------+--------+--------+-------+-------+----------+-------+-----+---------------+--------------+------------+--------------+--------------+-----------------+---------------------+\n",
      "| ID|Severity|         Start_Time|           End_Time|         Start_Lat|          Start_Lng|End_Lat|End_Lng|Distance(mi)|         Description|        Street|           City|    County|State|  Weather_Timestamp|Temperature(F)|Wind_Chill(F)|Humidity(%)|Pressure(in)|Visibility(mi)|Wind_Direction|Wind_Speed(mph)|Precipitation(in)|Weather_Condition|Amenity| Bump|Crossing|Give_Way|Junction|No_Exit|Railway|Roundabout|Station| Stop|Traffic_Calming|Traffic_Signal|Turning_Loop|Sunrise_Sunset|Civil_Twilight|Nautical_Twilight|Astronomical_Twilight|\n",
      "+---+--------+-------------------+-------------------+------------------+-------------------+-------+-------+------------+--------------------+--------------+---------------+----------+-----+-------------------+--------------+-------------+-----------+------------+--------------+--------------+---------------+-----------------+-----------------+-------+-----+--------+--------+--------+-------+-------+----------+-------+-----+---------------+--------------+------------+--------------+--------------+-----------------+---------------------+\n",
      "|  1|       3|2016-02-08 05:46:00|2016-02-08 11:00:00|         39.865147|         -84.058723|   NULL|   NULL|        0.01|Right lane blocke...|        I-70 E|         Dayton|Montgomery|   OH|2016-02-08 05:58:00|          36.9|         NULL|       91.0|       29.68|          10.0|          Calm|           NULL|             0.02|       Light Rain|  false|false|   false|   false|   false|  false|  false|     false|  false|false|          false|         false|       false|         Night|         Night|            Night|                Night|\n",
      "|  2|       3|2016-02-08 08:10:04|2016-02-08 08:40:04|40.100590000000004| -82.92519399999998|   NULL|   NULL|        0.01|Right hand should...|Westerville Rd|    Westerville|  Franklin|   OH|2016-02-08 08:28:00|          37.4|         33.8|      100.0|       29.62|           3.0|           SSW|            4.6|             0.02|       Light Rain|  false|false|   false|   false|   false|  false|  false|     false|  false|false|          false|         false|       false|           Day|           Day|              Day|                  Day|\n",
      "|  3|       2|2016-02-11 08:13:24|2016-02-11 08:43:24|         39.749916|         -84.139359|   NULL|   NULL|        0.01|Accident on US-35...|       US-35 E|         Dayton|Montgomery|   OH|2016-02-11 07:58:00|           7.5|         -1.1|       87.0|       30.28|          10.0|           SSW|            4.6|             NULL| Scattered Clouds|  false|false|   false|   false|   false|  false|  false|     false|  false|false|          false|         false|       false|           Day|           Day|              Day|                  Day|\n",
      "|  4|       2|2016-06-23 10:31:12|2016-06-23 11:01:12|         38.653061|-121.07054099999999|   NULL|   NULL|         0.0|Accident on US-50...|    Latrobe Rd|El Dorado Hills| El Dorado|   CA|2016-06-23 10:46:00|          77.0|         NULL|       34.0|       30.02|          10.0|            SW|            3.5|             NULL|            Clear|  false|false|   false|   false|   false|  false|  false|     false|  false|false|          false|         false|       false|           Day|           Day|              Day|                  Day|\n",
      "|  5|       3|2017-01-06 16:22:04|2017-01-06 16:51:29|         38.574406|        -121.577354|   NULL|   NULL|        0.01|Right hand should...|        I-80 W|West Sacramento|      Yolo|   CA|2017-01-06 15:53:00|          46.0|         41.9|       71.0|       30.09|          10.0|            NW|            8.1|             NULL|            Clear|  false|false|   false|   false|   false|  false|  false|     false|  false|false|          false|         false|       false|           Day|           Day|              Day|                  Day|\n",
      "+---+--------+-------------------+-------------------+------------------+-------------------+-------+-------+------------+--------------------+--------------+---------------+----------+-----+-------------------+--------------+-------------+-----------+------------+--------------+--------------+---------------+-----------------+-----------------+-------+-----+--------+--------+--------+-------+-------+----------+-------+-----+---------------+--------------+------------+--------------+--------------+-----------------+---------------------+\n",
      "only showing top 5 rows\n",
      "\n"
     ]
    }
   ],
   "execution_count": 2
  },
  {
   "metadata": {
    "ExecuteTime": {
     "end_time": "2024-11-23T18:28:44.578419Z",
     "start_time": "2024-11-23T18:27:59.486585Z"
    }
   },
   "cell_type": "code",
   "source": [
    "df = df.dropna(subset=['city','street'])\n",
    "df = df.filter((df['Pressure(in)'] != 0) | (df['Visibility(mi)'] != 0))\n",
    "df.show(5)"
   ],
   "id": "e576773d8d3b2492",
   "outputs": [
    {
     "name": "stdout",
     "output_type": "stream",
     "text": [
      "+---+--------+-------------------+-------------------+------------------+-------------------+-------+-------+------------+--------------------+--------------+---------------+----------+-----+-------------------+--------------+-------------+-----------+------------+--------------+--------------+---------------+-----------------+-----------------+-------+-----+--------+--------+--------+-------+-------+----------+-------+-----+---------------+--------------+------------+--------------+--------------+-----------------+---------------------+\n",
      "| ID|Severity|         Start_Time|           End_Time|         Start_Lat|          Start_Lng|End_Lat|End_Lng|Distance(mi)|         Description|        Street|           City|    County|State|  Weather_Timestamp|Temperature(F)|Wind_Chill(F)|Humidity(%)|Pressure(in)|Visibility(mi)|Wind_Direction|Wind_Speed(mph)|Precipitation(in)|Weather_Condition|Amenity| Bump|Crossing|Give_Way|Junction|No_Exit|Railway|Roundabout|Station| Stop|Traffic_Calming|Traffic_Signal|Turning_Loop|Sunrise_Sunset|Civil_Twilight|Nautical_Twilight|Astronomical_Twilight|\n",
      "+---+--------+-------------------+-------------------+------------------+-------------------+-------+-------+------------+--------------------+--------------+---------------+----------+-----+-------------------+--------------+-------------+-----------+------------+--------------+--------------+---------------+-----------------+-----------------+-------+-----+--------+--------+--------+-------+-------+----------+-------+-----+---------------+--------------+------------+--------------+--------------+-----------------+---------------------+\n",
      "|  1|       3|2016-02-08 05:46:00|2016-02-08 11:00:00|         39.865147|         -84.058723|   NULL|   NULL|        0.01|Right lane blocke...|        I-70 E|         Dayton|Montgomery|   OH|2016-02-08 05:58:00|          36.9|         NULL|       91.0|       29.68|          10.0|          Calm|           NULL|             0.02|       Light Rain|  false|false|   false|   false|   false|  false|  false|     false|  false|false|          false|         false|       false|         Night|         Night|            Night|                Night|\n",
      "|  2|       3|2016-02-08 08:10:04|2016-02-08 08:40:04|40.100590000000004| -82.92519399999998|   NULL|   NULL|        0.01|Right hand should...|Westerville Rd|    Westerville|  Franklin|   OH|2016-02-08 08:28:00|          37.4|         33.8|      100.0|       29.62|           3.0|           SSW|            4.6|             0.02|       Light Rain|  false|false|   false|   false|   false|  false|  false|     false|  false|false|          false|         false|       false|           Day|           Day|              Day|                  Day|\n",
      "|  3|       2|2016-02-11 08:13:24|2016-02-11 08:43:24|         39.749916|         -84.139359|   NULL|   NULL|        0.01|Accident on US-35...|       US-35 E|         Dayton|Montgomery|   OH|2016-02-11 07:58:00|           7.5|         -1.1|       87.0|       30.28|          10.0|           SSW|            4.6|             NULL| Scattered Clouds|  false|false|   false|   false|   false|  false|  false|     false|  false|false|          false|         false|       false|           Day|           Day|              Day|                  Day|\n",
      "|  4|       2|2016-06-23 10:31:12|2016-06-23 11:01:12|         38.653061|-121.07054099999999|   NULL|   NULL|         0.0|Accident on US-50...|    Latrobe Rd|El Dorado Hills| El Dorado|   CA|2016-06-23 10:46:00|          77.0|         NULL|       34.0|       30.02|          10.0|            SW|            3.5|             NULL|            Clear|  false|false|   false|   false|   false|  false|  false|     false|  false|false|          false|         false|       false|           Day|           Day|              Day|                  Day|\n",
      "|  5|       3|2017-01-06 16:22:04|2017-01-06 16:51:29|         38.574406|        -121.577354|   NULL|   NULL|        0.01|Right hand should...|        I-80 W|West Sacramento|      Yolo|   CA|2017-01-06 15:53:00|          46.0|         41.9|       71.0|       30.09|          10.0|            NW|            8.1|             NULL|            Clear|  false|false|   false|   false|   false|  false|  false|     false|  false|false|          false|         false|       false|           Day|           Day|              Day|                  Day|\n",
      "+---+--------+-------------------+-------------------+------------------+-------------------+-------+-------+------------+--------------------+--------------+---------------+----------+-----+-------------------+--------------+-------------+-----------+------------+--------------+--------------+---------------+-----------------+-----------------+-------+-----+--------+--------+--------+-------+-------+----------+-------+-----+---------------+--------------+------------+--------------+--------------+-----------------+---------------------+\n",
      "only showing top 5 rows\n",
      "\n"
     ]
    }
   ],
   "execution_count": 3
  },
  {
   "metadata": {
    "ExecuteTime": {
     "end_time": "2024-11-23T18:28:52.255933Z",
     "start_time": "2024-11-23T18:28:44.598946Z"
    }
   },
   "cell_type": "code",
   "source": [
    "from pyspark.sql.functions import when, col\n",
    "\n",
    "df = df.withColumn(\"Weather_Condition\", \n",
    "    when(col(\"Weather_Condition\").rlike(\"Thunder|T-Storm\"), \"Thunderstorm\")\n",
    "    .when(col(\"Weather_Condition\").rlike(\"Snow|Sleet|Wintry\"), \"Snow\")\n",
    "    .when(col(\"Weather_Condition\").rlike(\"Rain|Drizzle|Shower\"), \"Rain\")\n",
    "    .when(col(\"Weather_Condition\").rlike(\"Wind|Squalls\"), \"Windy\")\n",
    "    .when(col(\"Weather_Condition\").rlike(\"Hail|Pellets\"), \"Hail\")\n",
    "    .when(col(\"Weather_Condition\").rlike(\"Fair\"), \"Clear\")\n",
    "    .when(col(\"Weather_Condition\").rlike(\"Cloud|Overcast\"), \"Cloudy\")\n",
    "    .when(col(\"Weather_Condition\").rlike(\"Mist|Haze|Fog\"), \"Fog\")\n",
    "    .when(col(\"Weather_Condition\").rlike(\"Sand|Dust\"), \"Sand\")\n",
    "    .when(col(\"Weather_Condition\").rlike(\"Smoke|Volcanic Ash\"), \"Smoke\")\n",
    "    .when(col(\"Weather_Condition\").rlike(\"N/A Precipitation\"), None)\n",
    "    .otherwise(col(\"Weather_Condition\"))\n",
    ")\n",
    "\n",
    "df.select(\"Weather_Condition\").distinct().show()"
   ],
   "id": "b6191922c2668315",
   "outputs": [
    {
     "name": "stdout",
     "output_type": "stream",
     "text": [
      "+-----------------+\n",
      "|Weather_Condition|\n",
      "+-----------------+\n",
      "|     Thunderstorm|\n",
      "|           Cloudy|\n",
      "|              Fog|\n",
      "|            Clear|\n",
      "|            Smoke|\n",
      "|             Sand|\n",
      "|             Hail|\n",
      "|            Windy|\n",
      "|             Rain|\n",
      "|             Snow|\n",
      "|          Tornado|\n",
      "|             NULL|\n",
      "+-----------------+\n",
      "\n"
     ]
    }
   ],
   "execution_count": 4
  },
  {
   "metadata": {
    "ExecuteTime": {
     "end_time": "2024-11-23T17:42:53.547052Z",
     "start_time": "2024-11-23T17:42:49.053723Z"
    }
   },
   "cell_type": "code",
   "source": "df.select(\"Wind_Direction\").distinct().show()",
   "id": "a34508a0e1aed9ee",
   "outputs": [
    {
     "name": "stdout",
     "output_type": "stream",
     "text": [
      "+--------------+\n",
      "|Wind_Direction|\n",
      "+--------------+\n",
      "|           SSE|\n",
      "|            SW|\n",
      "|            NW|\n",
      "|          Calm|\n",
      "|             E|\n",
      "|           WSW|\n",
      "|           ENE|\n",
      "|            NE|\n",
      "|         South|\n",
      "|           NNW|\n",
      "|             N|\n",
      "|           SSW|\n",
      "|             W|\n",
      "|             S|\n",
      "|            SE|\n",
      "|          East|\n",
      "|           WNW|\n",
      "|           NNE|\n",
      "|          West|\n",
      "|           VAR|\n",
      "+--------------+\n",
      "only showing top 20 rows\n",
      "\n"
     ]
    }
   ],
   "execution_count": 5
  },
  {
   "metadata": {
    "ExecuteTime": {
     "end_time": "2024-11-23T18:28:52.338626Z",
     "start_time": "2024-11-23T18:28:52.295603Z"
    }
   },
   "cell_type": "code",
   "source": [
    "from pyspark.sql.functions import when, col\n",
    "\n",
    "# Mapping wind directions\n",
    "df = df.withColumn(\"Wind_Direction\", \n",
    "    when(col(\"Wind_Direction\") == \"CALM\", \"Calm\")\n",
    "    .when(col(\"Wind_Direction\") == \"VAR\", \"Variable\")\n",
    "    .when(col(\"Wind_Direction\") == \"East\", \"E\")\n",
    "    .when(col(\"Wind_Direction\") == \"North\", \"N\")\n",
    "    .when(col(\"Wind_Direction\") == \"South\", \"S\")\n",
    "    .when(col(\"Wind_Direction\") == \"West\", \"W\")\n",
    "    .when(col(\"Wind_Direction\").like(\"S_%_%\"), \"S\")\n",
    "    .when(col(\"Wind_Direction\").like(\"W_%_%\"), \"W\")\n",
    "    .when(col(\"Wind_Direction\").like(\"N_%_%\"), \"N\")\n",
    "    .when(col(\"Wind_Direction\").like(\"E_%_%\"), \"E\")\n",
    "    .otherwise(col(\"Wind_Direction\"))\n",
    ")"
   ],
   "id": "fc52b487fac35835",
   "outputs": [],
   "execution_count": 5
  },
  {
   "metadata": {
    "ExecuteTime": {
     "end_time": "2024-11-23T17:56:04.596730Z",
     "start_time": "2024-11-23T17:55:59.454815Z"
    }
   },
   "cell_type": "code",
   "source": [
    "\n",
    "df.select(\"Wind_Direction\").distinct().show()"
   ],
   "id": "f9d694d07fc09fa",
   "outputs": [
    {
     "name": "stdout",
     "output_type": "stream",
     "text": [
      "+--------------+\n",
      "|Wind_Direction|\n",
      "+--------------+\n",
      "|            SW|\n",
      "|            NW|\n",
      "|          Calm|\n",
      "|             E|\n",
      "|            NE|\n",
      "|             N|\n",
      "|             W|\n",
      "|             S|\n",
      "|            SE|\n",
      "|      Variable|\n",
      "|          NULL|\n",
      "+--------------+\n",
      "\n"
     ]
    }
   ],
   "execution_count": 8
  },
  {
   "metadata": {
    "ExecuteTime": {
     "end_time": "2024-11-23T17:28:06.153222Z",
     "start_time": "2024-11-23T17:27:54.326632Z"
    }
   },
   "cell_type": "code",
   "source": [
    "from pyspark.sql.functions import count\n",
    "\n",
    "df.select([count(when(col(c).isNull(), 1)).alias(f\"{c}_null_count\") for c in df.columns]).show()"
   ],
   "id": "d78761de02229133",
   "outputs": [
    {
     "name": "stdout",
     "output_type": "stream",
     "text": [
      "+-------------+-------------------+---------------------+-------------------+--------------------+--------------------+------------------+------------------+-----------------------+----------------------+-----------------+---------------+-----------------+----------------+----------------------------+-------------------------+------------------------+----------------------+-----------------------+-------------------------+-------------------------+--------------------------+----------------------------+----------------------------+------------------+---------------+-------------------+-------------------+-------------------+------------------+------------------+---------------------+------------------+---------------+--------------------------+-------------------------+-----------------------+-------------------------+-------------------------+----------------------------+--------------------------------+\n",
      "|ID_null_count|Severity_null_count|Start_Time_null_count|End_Time_null_count|Start_Lat_null_count|Start_Lng_null_count|End_Lat_null_count|End_Lng_null_count|Distance(mi)_null_count|Description_null_count|Street_null_count|City_null_count|County_null_count|State_null_count|Weather_Timestamp_null_count|Temperature(F)_null_count|Wind_Chill(F)_null_count|Humidity(%)_null_count|Pressure(in)_null_count|Visibility(mi)_null_count|Wind_Direction_null_count|Wind_Speed(mph)_null_count|Precipitation(in)_null_count|Weather_Condition_null_count|Amenity_null_count|Bump_null_count|Crossing_null_count|Give_Way_null_count|Junction_null_count|No_Exit_null_count|Railway_null_count|Roundabout_null_count|Station_null_count|Stop_null_count|Traffic_Calming_null_count|Traffic_Signal_null_count|Turning_Loop_null_count|Sunrise_Sunset_null_count|Civil_Twilight_null_count|Nautical_Twilight_null_count|Astronomical_Twilight_null_count|\n",
      "+-------------+-------------------+---------------------+-------------------+--------------------+--------------------+------------------+------------------+-----------------------+----------------------+-----------------+---------------+-----------------+----------------+----------------------------+-------------------------+------------------------+----------------------+-----------------------+-------------------------+-------------------------+--------------------------+----------------------------+----------------------------+------------------+---------------+-------------------+-------------------+-------------------+------------------+------------------+---------------------+------------------+---------------+--------------------------+-------------------------+-----------------------+-------------------------+-------------------------+----------------------------+--------------------------------+\n",
      "|            0|                  0|                    0|                  0|                   0|                   0|           3355579|           3355579|                      0|                     5|                0|              0|                0|               0|                           0|                    33090|                 1867766|                 43349|                   9240|                    45604|                    51064|                    440279|                     2075927|                       46030|                 0|              0|                  0|                  0|                  0|                 0|                 0|                    0|                 0|              0|                         0|                        0|                      0|                    20057|                    20057|                       20057|                           20057|\n",
      "+-------------+-------------------+---------------------+-------------------+--------------------+--------------------+------------------+------------------+-----------------------+----------------------+-----------------+---------------+-----------------+----------------+----------------------------+-------------------------+------------------------+----------------------+-----------------------+-------------------------+-------------------------+--------------------------+----------------------------+----------------------------+------------------+---------------+-------------------+-------------------+-------------------+------------------+------------------+---------------------+------------------+---------------+--------------------------+-------------------------+-----------------------+-------------------------+-------------------------+----------------------------+--------------------------------+\n",
      "\n"
     ]
    }
   ],
   "execution_count": 7
  },
  {
   "metadata": {
    "ExecuteTime": {
     "end_time": "2024-11-23T18:47:21.579136Z",
     "start_time": "2024-11-23T18:29:01.913383Z"
    }
   },
   "cell_type": "code",
   "source": "df.toPandas().to_csv('../data/US_Accidents_March23_cleaned.csv', index=False)",
   "id": "92f175dec740d2d5",
   "outputs": [],
   "execution_count": 6
  },
  {
   "metadata": {},
   "cell_type": "markdown",
   "source": "    ### To Data Warehouse",
   "id": "1baa5e0d83e91bd8"
  },
  {
   "metadata": {
    "ExecuteTime": {
     "end_time": "2024-11-22T15:36:41.945689Z",
     "start_time": "2024-11-22T15:36:41.764520Z"
    }
   },
   "cell_type": "code",
   "source": [
    "from pyspark.sql import Window\n",
    "from pyspark.sql.functions import col, row_number\n",
    "\n",
    "# Dimension Table: Location_Dim\n",
    "location_dim = df.select(\n",
    "    col(\"Street\"),\n",
    "    col(\"City\"),\n",
    "    col(\"County\"),\n",
    "    col(\"State\"),\n",
    ").distinct()\n",
    "\n",
    "window_location = Window.orderBy(\"Street\", \"City\", \"County\", \"State\")\n",
    "location_dim = location_dim.withColumn(\n",
    "    'Location_ID',\n",
    "    row_number().over(window_location)\n",
    ")\n",
    "\n",
    "# Weather_Condition_Dim\n",
    "weather_condition_dim = df.select(\n",
    "    col(\"Weather_Condition\")\n",
    ").distinct()\n",
    "\n",
    "weather_condition_window = Window.orderBy(\"Weather_Condition\")\n",
    "weather_condition_dim = weather_condition_dim.withColumn(\n",
    "    'Weather_Condition_ID',\n",
    "    row_number().over(weather_condition_window)\n",
    ")\n",
    "\n",
    "# Wind_Direction_Dim\n",
    "wind_direction_dim = df.select(\n",
    "    col(\"Wind_Direction\")\n",
    ").distinct()\n",
    "\n",
    "wind_direction_window = Window.orderBy(\"Wind_Direction\")\n",
    "wind_direction_dim = wind_direction_dim.withColumn(\n",
    "    'Wind_Direction_ID',\n",
    "    row_number().over(wind_direction_window)\n",
    ")\n",
    "\n",
    "# Environment_Dim\n",
    "environment_dim = df.select(\n",
    "    col(\"Amenity\"),\n",
    "    col(\"Bump\"),\n",
    "    col(\"Crossing\"),\n",
    "    col(\"Give_Way\"),\n",
    "    col(\"Junction\"),\n",
    "    col(\"No_Exit\"),\n",
    "    col(\"Railway\"),\n",
    "    col(\"Roundabout\"),\n",
    "    col(\"Station\"),\n",
    "    col(\"Stop\"),\n",
    "    col(\"Traffic_Calming\"),\n",
    "    col(\"Traffic_Signal\"),\n",
    "    col(\"Turning_Loop\")\n",
    ").distinct()\n",
    "\n",
    "environment_window = Window.orderBy(\n",
    "    \"Amenity\", \"Bump\", \"Crossing\", \"Give_Way\", \"Junction\",\n",
    "    \"No_Exit\", \"Railway\", \"Roundabout\", \"Station\", \"Stop\",\n",
    "    \"Traffic_Calming\", \"Traffic_Signal\", \"Turning_Loop\"\n",
    ")\n",
    "environment_dim = environment_dim.withColumn(\n",
    "    'Environment_ID',\n",
    "    row_number().over(environment_window)\n",
    ")\n",
    "\n",
    "# Twilight_Dim\n",
    "twilight_dim = df.select(\n",
    "    col(\"Sunrise_Sunset\"),\n",
    "    col(\"Civil_Twilight\"),\n",
    "    col(\"Nautical_Twilight\"),\n",
    "    col(\"Astronomical_Twilight\")\n",
    ").distinct()\n",
    "\n",
    "twilight_window = Window.orderBy(\n",
    "    \"Sunrise_Sunset\", \"Civil_Twilight\", \"Nautical_Twilight\", \"Astronomical_Twilight\"\n",
    ")\n",
    "twilight_dim = twilight_dim.withColumn(\n",
    "    'Twilight_ID',\n",
    "    row_number().over(twilight_window)\n",
    ")"
   ],
   "id": "d4f116f518240ab7",
   "outputs": [],
   "execution_count": 9
  },
  {
   "metadata": {
    "ExecuteTime": {
     "end_time": "2024-11-22T15:36:57.717511Z",
     "start_time": "2024-11-22T15:36:42.000133Z"
    }
   },
   "cell_type": "code",
   "source": "location_dim.describe().show()",
   "id": "12ffc8a0181d9284",
   "outputs": [
    {
     "name": "stdout",
     "output_type": "stream",
     "text": [
      "+-------+------------------+----------+---------+------+------------------+\n",
      "|summary|            Street|      City|   County| State|       Location_ID|\n",
      "+-------+------------------+----------+---------+------+------------------+\n",
      "|  count|            624774|    624774|   624774|624774|            624774|\n",
      "|   mean|55.888888888888886|      NULL|     NULL|  NULL|          312387.5|\n",
      "| stddev|107.16611014401285|      NULL|     NULL|  NULL|180356.86287884915|\n",
      "|    min|         1 1/2 Ave|Aaronsburg|Abbeville|    AL|                 1|\n",
      "|    max|  william Carey Dr|   Zwingle|  Ziebach|    WY|            624774|\n",
      "+-------+------------------+----------+---------+------+------------------+\n",
      "\n"
     ]
    }
   ],
   "execution_count": 10
  },
  {
   "metadata": {
    "ExecuteTime": {
     "end_time": "2024-11-22T15:38:06.855198Z",
     "start_time": "2024-11-22T15:38:06.602697Z"
    }
   },
   "cell_type": "code",
   "source": [
    "accident_fact = (df.join(location_dim, on=[\n",
    "    df.Street == location_dim.Street,\n",
    "    df.City == location_dim.City,\n",
    "    df.County == location_dim.County,\n",
    "    df.State == location_dim.State,\n",
    "]).join(weather_condition_dim, on=[\n",
    "    df.Weather_Condition == weather_condition_dim.Weather_Condition,\n",
    "]).join(wind_direction_dim, on=[\n",
    "        df.Wind_Direction == wind_direction_dim.Wind_Direction,\n",
    "]).join(environment_dim, on=[\n",
    "    df.Amenity == environment_dim.Amenity,\n",
    "    df.Bump == environment_dim.Bump,\n",
    "    df.Crossing == environment_dim.Crossing,\n",
    "    df.Give_Way == environment_dim.Give_Way,\n",
    "    df.Junction == environment_dim.Junction,\n",
    "    df.No_Exit == environment_dim.No_Exit,\n",
    "    df.Railway == environment_dim.Railway,\n",
    "    df.Roundabout == environment_dim.Roundabout,\n",
    "    df.Station == environment_dim.Station,\n",
    "    df.Stop == environment_dim.Stop,\n",
    "    df.Traffic_Calming == environment_dim.Traffic_Calming,\n",
    "    df.Traffic_Signal == environment_dim.Traffic_Signal,\n",
    "    df.Turning_Loop == environment_dim.Turning_Loop\n",
    "]).join(twilight_dim, on=[\n",
    "    df.Sunrise_Sunset == twilight_dim.Sunrise_Sunset,\n",
    "    df.Civil_Twilight == twilight_dim.Civil_Twilight,\n",
    "    df.Nautical_Twilight == twilight_dim.Nautical_Twilight,\n",
    "    df.Astronomical_Twilight == twilight_dim.Astronomical_Twilight\n",
    "]).select(\n",
    "    col(\"ID\").alias(\"Accident_ID\"),\n",
    "    col(\"Severity\"),\n",
    "    col(\"Start_Time\"),\n",
    "    col(\"End_Time\"),\n",
    "    col('Start_Lat'),\n",
    "    col('Start_Lng'),\n",
    "    col('End_Lat'),\n",
    "    col('End_Lng'),\n",
    "    col(\"Distance(mi)\").alias(\"Distance_mi\"),\n",
    "    col(\"Weather_Timestamp\"),\n",
    "    col(\"Temperature(F)\").alias(\"Temperature_F\"),\n",
    "    col(\"Humidity(%)\").alias(\"Humidity_percent\"),\n",
    "    col(\"Wind_Speed(mph)\").alias(\"Wind_Speed_mph\"),\n",
    "    col(\"Precipitation(in)\").alias(\"Precipitation_in\"),\n",
    "    col(\"Visibility(mi)\").alias(\"Visibility_mi\"),\n",
    "    location_dim[\"Location_ID\"],\n",
    "    weather_condition_dim[\"Weather_Condition_ID\"],\n",
    "    wind_direction_dim[\"Wind_Direction_ID\"],\n",
    "    environment_dim[\"Environment_ID\"],\n",
    "    twilight_dim[\"Twilight_ID\"]\n",
    "))"
   ],
   "id": "3f7f94e5b5f970d1",
   "outputs": [],
   "execution_count": 11
  },
  {
   "metadata": {
    "ExecuteTime": {
     "end_time": "2024-11-22T15:40:21.258365Z",
     "start_time": "2024-11-22T15:38:23.690995Z"
    }
   },
   "cell_type": "code",
   "source": "accident_fact.show(5)",
   "id": "3e6d384475cf7c7f",
   "outputs": [
    {
     "name": "stdout",
     "output_type": "stream",
     "text": [
      "+-----------+--------+-------------------+-------------------+---------+-----------+---------+-----------+-----------+-------------------+-------------+----------------+--------------+----------------+-------------+-----------+--------------------+-----------------+--------------+-----------+\n",
      "|Accident_ID|Severity|         Start_Time|           End_Time|Start_Lat|  Start_Lng|  End_Lat|    End_Lng|Distance_mi|  Weather_Timestamp|Temperature_F|Humidity_percent|Wind_Speed_mph|Precipitation_in|Visibility_mi|Location_ID|Weather_Condition_ID|Wind_Direction_ID|Environment_ID|Twilight_ID|\n",
      "+-----------+--------+-------------------+-------------------+---------+-----------+---------+-----------+-----------+-------------------+-------------+----------------+--------------+----------------+-------------+-----------+--------------------+-----------------+--------------+-----------+\n",
      "|    5337731|       2|2021-11-27 05:42:00|2021-11-27 07:00:22|40.301935|-109.810405|40.301952|-109.806051|      0.229|2021-11-27 05:53:00|         21.0|            71.0|           7.0|             0.0|         10.0|         19|                   2|               11|             1|         10|\n",
      "|    6271420|       2|2020-10-11 05:56:25|2020-10-11 07:11:33| 45.76376| -93.618744|45.763824| -93.618561|       0.01|2020-10-11 05:55:00|         46.0|            81.0|          10.0|             0.0|         10.0|         21|                   2|                3|             1|         10|\n",
      "|    6384165|       2|2020-10-11 05:56:25|2020-10-11 08:56:37| 45.76376| -93.618744|45.765732| -93.613197|        0.3|2020-10-11 05:55:00|         46.0|            81.0|          10.0|             0.0|         10.0|         21|                   2|                3|             1|         10|\n",
      "|    3006827|       2|2022-04-07 20:56:51|2022-04-07 22:16:03|27.863388| -82.638733|27.864005| -82.638726|      0.043|2022-04-07 20:53:00|         71.0|            93.0|           6.0|             0.0|         10.0|         25|                   3|               11|             1|         10|\n",
      "|    5592800|       2|2021-04-13 21:34:11|2021-04-14 00:55:20|44.949114| -95.391342|44.949061|  -95.38431|      0.344|2021-04-13 21:35:00|         30.0|            86.0|          15.0|             0.0|         10.0|         28|                   3|               11|             1|         10|\n",
      "+-----------+--------+-------------------+-------------------+---------+-----------+---------+-----------+-----------+-------------------+-------------+----------------+--------------+----------------+-------------+-----------+--------------------+-----------------+--------------+-----------+\n",
      "only showing top 5 rows\n",
      "\n"
     ]
    }
   ],
   "execution_count": 12
  },
  {
   "metadata": {
    "ExecuteTime": {
     "end_time": "2024-11-22T15:45:21.971003Z",
     "start_time": "2024-11-22T15:45:10.894328Z"
    }
   },
   "cell_type": "code",
   "source": [
    "# Change to Pandas DataFrame and store as CSV\n",
    "location_dim.toPandas().to_csv('../data/location_dim.csv', index=False)\n",
    "weather_condition_dim.toPandas().to_csv('../data/weather_condition_dim.csv', index=False)\n",
    "wind_direction_dim.toPandas().to_csv('../data/wind_direction_dim.csv', index=False)\n",
    "environment_dim.toPandas().to_csv('../data/environment_dim.csv', index=False)\n",
    "twilight_dim.toPandas().to_csv('../data/twilight_dim.csv', index=False)"
   ],
   "id": "6f1bfd28cb56faef",
   "outputs": [],
   "execution_count": 15
  },
  {
   "metadata": {
    "ExecuteTime": {
     "end_time": "2024-11-22T16:03:36.346998Z",
     "start_time": "2024-11-22T15:46:38.671298Z"
    }
   },
   "cell_type": "code",
   "source": [
    "# Change to Pandas DataFrame and store as CSV\n",
    "accident_fact.toPandas().to_csv('../data/accident_fact.csv', index=False)"
   ],
   "id": "b6c1418f1e173b68",
   "outputs": [],
   "execution_count": 16
  }
 ],
 "metadata": {
  "kernelspec": {
   "display_name": "Python 3",
   "language": "python",
   "name": "python3"
  },
  "language_info": {
   "codemirror_mode": {
    "name": "ipython",
    "version": 2
   },
   "file_extension": ".py",
   "mimetype": "text/x-python",
   "name": "python",
   "nbconvert_exporter": "python",
   "pygments_lexer": "ipython2",
   "version": "2.7.6"
  }
 },
 "nbformat": 4,
 "nbformat_minor": 5
}
