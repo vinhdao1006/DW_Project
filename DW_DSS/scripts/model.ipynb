{
 "cells": [
  {
   "cell_type": "code",
   "id": "initial_id",
   "metadata": {
    "collapsed": true,
    "ExecuteTime": {
     "end_time": "2024-11-25T09:09:26.198952Z",
     "start_time": "2024-11-25T09:09:09.672882Z"
    }
   },
   "source": [
    "from pyspark.sql import SparkSession, Window, DataFrame\n",
    "\n",
    "import os\n",
    "import sys\n",
    "\n",
    "os.environ['PYSPARK_PYTHON'] = sys.executable\n",
    "os.environ['PYSPARK_DRIVER_PYTHON'] = sys.executable\n",
    "\n",
    "# Initialize Spark session\n",
    "spark = (SparkSession.builder.appName(\"DataProcessingApp\")\n",
    "         .config(\"spark.executor.memory\", \"8g\")\n",
    "         .config(\"spark.driver.memory\", \"8g\")\n",
    "         .config(\"spark.driver.maxResultSize\", \"4g\")\n",
    "         .getOrCreate())\n",
    "spark.sparkContext.setLogLevel(\"DEBUG\")\n",
    "\n",
    "# Read the CSV file into a DataFrame\n",
    "df = spark.read.csv('../data/US_Accidents_March23_cleaned.csv', header=True, inferSchema=True)\n",
    "df.show(5)"
   ],
   "outputs": [
    {
     "name": "stdout",
     "output_type": "stream",
     "text": [
      "+---+--------+-------------------+-------------------+------------------+-------------------+-------+-------+------------+--------------------+--------------+---------------+----------+-----+-------------------+--------------+-------------+-----------+------------+--------------+--------------+---------------+-----------------+-----------------+-------+-----+--------+--------+--------+-------+-------+----------+-------+-----+---------------+--------------+------------+--------------+--------------+-----------------+---------------------+\n",
      "| ID|Severity|         Start_Time|           End_Time|         Start_Lat|          Start_Lng|End_Lat|End_Lng|Distance(mi)|         Description|        Street|           City|    County|State|  Weather_Timestamp|Temperature(F)|Wind_Chill(F)|Humidity(%)|Pressure(in)|Visibility(mi)|Wind_Direction|Wind_Speed(mph)|Precipitation(in)|Weather_Condition|Amenity| Bump|Crossing|Give_Way|Junction|No_Exit|Railway|Roundabout|Station| Stop|Traffic_Calming|Traffic_Signal|Turning_Loop|Sunrise_Sunset|Civil_Twilight|Nautical_Twilight|Astronomical_Twilight|\n",
      "+---+--------+-------------------+-------------------+------------------+-------------------+-------+-------+------------+--------------------+--------------+---------------+----------+-----+-------------------+--------------+-------------+-----------+------------+--------------+--------------+---------------+-----------------+-----------------+-------+-----+--------+--------+--------+-------+-------+----------+-------+-----+---------------+--------------+------------+--------------+--------------+-----------------+---------------------+\n",
      "|  1|       3|2016-02-08 05:46:00|2016-02-08 11:00:00|         39.865147|         -84.058723|   NULL|   NULL|        0.01|Right lane blocke...|        I-70 E|         Dayton|Montgomery|   OH|2016-02-08 05:58:00|          36.9|         NULL|       91.0|       29.68|          10.0|          Calm|           NULL|             0.02|             Rain|  false|false|   false|   false|   false|  false|  false|     false|  false|false|          false|         false|       false|         Night|         Night|            Night|                Night|\n",
      "|  2|       3|2016-02-08 08:10:04|2016-02-08 08:40:04|40.100590000000004| -82.92519399999998|   NULL|   NULL|        0.01|Right hand should...|Westerville Rd|    Westerville|  Franklin|   OH|2016-02-08 08:28:00|          37.4|         33.8|      100.0|       29.62|           3.0|             S|            4.6|             0.02|             Rain|  false|false|   false|   false|   false|  false|  false|     false|  false|false|          false|         false|       false|           Day|           Day|              Day|                  Day|\n",
      "|  3|       2|2016-02-11 08:13:24|2016-02-11 08:43:24|         39.749916|         -84.139359|   NULL|   NULL|        0.01|Accident on US-35...|       US-35 E|         Dayton|Montgomery|   OH|2016-02-11 07:58:00|           7.5|         -1.1|       87.0|       30.28|          10.0|             S|            4.6|             NULL|           Cloudy|  false|false|   false|   false|   false|  false|  false|     false|  false|false|          false|         false|       false|           Day|           Day|              Day|                  Day|\n",
      "|  4|       2|2016-06-23 10:31:12|2016-06-23 11:01:12|         38.653061|-121.07054099999999|   NULL|   NULL|         0.0|Accident on US-50...|    Latrobe Rd|El Dorado Hills| El Dorado|   CA|2016-06-23 10:46:00|          77.0|         NULL|       34.0|       30.02|          10.0|            SW|            3.5|             NULL|            Clear|  false|false|   false|   false|   false|  false|  false|     false|  false|false|          false|         false|       false|           Day|           Day|              Day|                  Day|\n",
      "|  5|       3|2017-01-06 16:22:04|2017-01-06 16:51:29|         38.574406|        -121.577354|   NULL|   NULL|        0.01|Right hand should...|        I-80 W|West Sacramento|      Yolo|   CA|2017-01-06 15:53:00|          46.0|         41.9|       71.0|       30.09|          10.0|            NW|            8.1|             NULL|            Clear|  false|false|   false|   false|   false|  false|  false|     false|  false|false|          false|         false|       false|           Day|           Day|              Day|                  Day|\n",
      "+---+--------+-------------------+-------------------+------------------+-------------------+-------+-------+------------+--------------------+--------------+---------------+----------+-----+-------------------+--------------+-------------+-----------+------------+--------------+--------------+---------------+-----------------+-----------------+-------+-----+--------+--------+--------+-------+-------+----------+-------+-----+---------------+--------------+------------+--------------+--------------+-----------------+---------------------+\n",
      "only showing top 5 rows\n",
      "\n"
     ]
    }
   ],
   "execution_count": 2
  },
  {
   "metadata": {
    "ExecuteTime": {
     "end_time": "2024-11-25T09:09:26.777323Z",
     "start_time": "2024-11-25T09:09:26.226483Z"
    }
   },
   "cell_type": "code",
   "source": [
    "from pyspark.sql.functions import col, year, month, dayofmonth, dayofweek, hour, minute\n",
    "\n",
    "# Convert Start_Time to timestamp (if not already)\n",
    "df = df.withColumn(\"Start_Time\", col(\"Start_Time\").cast(\"timestamp\"))\n",
    "\n",
    "df = df.withColumn(\"Year\", year(col(\"Start_Time\"))).withColumn(\"Month\", month(col(\"Start_Time\"))).withColumn(\"Weekday\", dayofweek(col(\"Start_Time\")).cast(\"int\") - 2).withColumn(\"Day\", dayofmonth(col(\"Start_Time\")))\n",
    "\n",
    "# Extract hour and minute\n",
    "df = df.withColumn(\"Hour\", hour(col(\"Start_Time\"))) \\\n",
    "       .withColumn(\"Minute\", minute(col(\"Start_Time\")))\n",
    "df.show(5)"
   ],
   "id": "b470096e6c70f5a5",
   "outputs": [
    {
     "name": "stdout",
     "output_type": "stream",
     "text": [
      "+---+--------+-------------------+-------------------+------------------+-------------------+-------+-------+------------+--------------------+--------------+---------------+----------+-----+-------------------+--------------+-------------+-----------+------------+--------------+--------------+---------------+-----------------+-----------------+-------+-----+--------+--------+--------+-------+-------+----------+-------+-----+---------------+--------------+------------+--------------+--------------+-----------------+---------------------+----+-----+-------+---+----+------+\n",
      "| ID|Severity|         Start_Time|           End_Time|         Start_Lat|          Start_Lng|End_Lat|End_Lng|Distance(mi)|         Description|        Street|           City|    County|State|  Weather_Timestamp|Temperature(F)|Wind_Chill(F)|Humidity(%)|Pressure(in)|Visibility(mi)|Wind_Direction|Wind_Speed(mph)|Precipitation(in)|Weather_Condition|Amenity| Bump|Crossing|Give_Way|Junction|No_Exit|Railway|Roundabout|Station| Stop|Traffic_Calming|Traffic_Signal|Turning_Loop|Sunrise_Sunset|Civil_Twilight|Nautical_Twilight|Astronomical_Twilight|Year|Month|Weekday|Day|Hour|Minute|\n",
      "+---+--------+-------------------+-------------------+------------------+-------------------+-------+-------+------------+--------------------+--------------+---------------+----------+-----+-------------------+--------------+-------------+-----------+------------+--------------+--------------+---------------+-----------------+-----------------+-------+-----+--------+--------+--------+-------+-------+----------+-------+-----+---------------+--------------+------------+--------------+--------------+-----------------+---------------------+----+-----+-------+---+----+------+\n",
      "|  1|       3|2016-02-08 05:46:00|2016-02-08 11:00:00|         39.865147|         -84.058723|   NULL|   NULL|        0.01|Right lane blocke...|        I-70 E|         Dayton|Montgomery|   OH|2016-02-08 05:58:00|          36.9|         NULL|       91.0|       29.68|          10.0|          Calm|           NULL|             0.02|             Rain|  false|false|   false|   false|   false|  false|  false|     false|  false|false|          false|         false|       false|         Night|         Night|            Night|                Night|2016|    2|      0|  8|   5|    46|\n",
      "|  2|       3|2016-02-08 08:10:04|2016-02-08 08:40:04|40.100590000000004| -82.92519399999998|   NULL|   NULL|        0.01|Right hand should...|Westerville Rd|    Westerville|  Franklin|   OH|2016-02-08 08:28:00|          37.4|         33.8|      100.0|       29.62|           3.0|             S|            4.6|             0.02|             Rain|  false|false|   false|   false|   false|  false|  false|     false|  false|false|          false|         false|       false|           Day|           Day|              Day|                  Day|2016|    2|      0|  8|   8|    10|\n",
      "|  3|       2|2016-02-11 08:13:24|2016-02-11 08:43:24|         39.749916|         -84.139359|   NULL|   NULL|        0.01|Accident on US-35...|       US-35 E|         Dayton|Montgomery|   OH|2016-02-11 07:58:00|           7.5|         -1.1|       87.0|       30.28|          10.0|             S|            4.6|             NULL|           Cloudy|  false|false|   false|   false|   false|  false|  false|     false|  false|false|          false|         false|       false|           Day|           Day|              Day|                  Day|2016|    2|      3| 11|   8|    13|\n",
      "|  4|       2|2016-06-23 10:31:12|2016-06-23 11:01:12|         38.653061|-121.07054099999999|   NULL|   NULL|         0.0|Accident on US-50...|    Latrobe Rd|El Dorado Hills| El Dorado|   CA|2016-06-23 10:46:00|          77.0|         NULL|       34.0|       30.02|          10.0|            SW|            3.5|             NULL|            Clear|  false|false|   false|   false|   false|  false|  false|     false|  false|false|          false|         false|       false|           Day|           Day|              Day|                  Day|2016|    6|      3| 23|  10|    31|\n",
      "|  5|       3|2017-01-06 16:22:04|2017-01-06 16:51:29|         38.574406|        -121.577354|   NULL|   NULL|        0.01|Right hand should...|        I-80 W|West Sacramento|      Yolo|   CA|2017-01-06 15:53:00|          46.0|         41.9|       71.0|       30.09|          10.0|            NW|            8.1|             NULL|            Clear|  false|false|   false|   false|   false|  false|  false|     false|  false|false|          false|         false|       false|           Day|           Day|              Day|                  Day|2017|    1|      4|  6|  16|    22|\n",
      "+---+--------+-------------------+-------------------+------------------+-------------------+-------+-------+------------+--------------------+--------------+---------------+----------+-----+-------------------+--------------+-------------+-----------+------------+--------------+--------------+---------------+-----------------+-----------------+-------+-----+--------+--------+--------+-------+-------+----------+-------+-----+---------------+--------------+------------+--------------+--------------+-----------------+---------------------+----+-----+-------+---+----+------+\n",
      "only showing top 5 rows\n",
      "\n"
     ]
    }
   ],
   "execution_count": 3
  },
  {
   "metadata": {
    "ExecuteTime": {
     "end_time": "2024-11-25T09:09:27.102201Z",
     "start_time": "2024-11-25T09:09:26.820913Z"
    }
   },
   "cell_type": "code",
   "source": [
    "features_to_drop = [\"ID\", \"Start_Time\", \"End_Time\", \"End_Lat\", \"End_Lng\", \"Description\", \"Street\", \"County\", \"Zipcode\", \"Weather_Timestamp\", \"Wind_Chill(F)\", \"Turning_Loop\", \"Sunrise_Sunset\", \"Nautical_Twilight\", \"Astronomical_Twilight\"]\n",
    "df = df.drop(*features_to_drop)\n",
    "df.show(5)"
   ],
   "id": "981ef70349e57226",
   "outputs": [
    {
     "name": "stdout",
     "output_type": "stream",
     "text": [
      "+--------+------------------+-------------------+------------+---------------+-----+--------------+-----------+------------+--------------+--------------+---------------+-----------------+-----------------+-------+-----+--------+--------+--------+-------+-------+----------+-------+-----+---------------+--------------+--------------+----+-----+-------+---+----+------+\n",
      "|Severity|         Start_Lat|          Start_Lng|Distance(mi)|           City|State|Temperature(F)|Humidity(%)|Pressure(in)|Visibility(mi)|Wind_Direction|Wind_Speed(mph)|Precipitation(in)|Weather_Condition|Amenity| Bump|Crossing|Give_Way|Junction|No_Exit|Railway|Roundabout|Station| Stop|Traffic_Calming|Traffic_Signal|Civil_Twilight|Year|Month|Weekday|Day|Hour|Minute|\n",
      "+--------+------------------+-------------------+------------+---------------+-----+--------------+-----------+------------+--------------+--------------+---------------+-----------------+-----------------+-------+-----+--------+--------+--------+-------+-------+----------+-------+-----+---------------+--------------+--------------+----+-----+-------+---+----+------+\n",
      "|       3|         39.865147|         -84.058723|        0.01|         Dayton|   OH|          36.9|       91.0|       29.68|          10.0|          Calm|           NULL|             0.02|             Rain|  false|false|   false|   false|   false|  false|  false|     false|  false|false|          false|         false|         Night|2016|    2|      0|  8|   5|    46|\n",
      "|       3|40.100590000000004| -82.92519399999998|        0.01|    Westerville|   OH|          37.4|      100.0|       29.62|           3.0|             S|            4.6|             0.02|             Rain|  false|false|   false|   false|   false|  false|  false|     false|  false|false|          false|         false|           Day|2016|    2|      0|  8|   8|    10|\n",
      "|       2|         39.749916|         -84.139359|        0.01|         Dayton|   OH|           7.5|       87.0|       30.28|          10.0|             S|            4.6|             NULL|           Cloudy|  false|false|   false|   false|   false|  false|  false|     false|  false|false|          false|         false|           Day|2016|    2|      3| 11|   8|    13|\n",
      "|       2|         38.653061|-121.07054099999999|         0.0|El Dorado Hills|   CA|          77.0|       34.0|       30.02|          10.0|            SW|            3.5|             NULL|            Clear|  false|false|   false|   false|   false|  false|  false|     false|  false|false|          false|         false|           Day|2016|    6|      3| 23|  10|    31|\n",
      "|       3|         38.574406|        -121.577354|        0.01|West Sacramento|   CA|          46.0|       71.0|       30.09|          10.0|            NW|            8.1|             NULL|            Clear|  false|false|   false|   false|   false|  false|  false|     false|  false|false|          false|         false|           Day|2017|    1|      4|  6|  16|    22|\n",
      "+--------+------------------+-------------------+------------+---------------+-----+--------------+-----------+------------+--------------+--------------+---------------+-----------------+-----------------+-------+-----+--------+--------+--------+-------+-------+----------+-------+-----+---------------+--------------+--------------+----+-----+-------+---+----+------+\n",
      "only showing top 5 rows\n",
      "\n"
     ]
    }
   ],
   "execution_count": 4
  },
  {
   "metadata": {},
   "cell_type": "code",
   "outputs": [],
   "execution_count": null,
   "source": "",
   "id": "cbfe33c89d66d0d2"
  }
 ],
 "metadata": {
  "kernelspec": {
   "display_name": "Python 3",
   "language": "python",
   "name": "python3"
  },
  "language_info": {
   "codemirror_mode": {
    "name": "ipython",
    "version": 2
   },
   "file_extension": ".py",
   "mimetype": "text/x-python",
   "name": "python",
   "nbconvert_exporter": "python",
   "pygments_lexer": "ipython2",
   "version": "2.7.6"
  }
 },
 "nbformat": 4,
 "nbformat_minor": 5
}
