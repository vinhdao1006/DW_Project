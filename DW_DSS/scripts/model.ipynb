{
 "cells": [
  {
   "cell_type": "code",
   "id": "initial_id",
   "metadata": {
    "collapsed": true,
    "ExecuteTime": {
     "end_time": "2024-11-25T09:54:27.989222Z",
     "start_time": "2024-11-25T09:54:11.726862Z"
    }
   },
   "source": [
    "from pyspark.sql import SparkSession, Window, DataFrame\n",
    "\n",
    "import os\n",
    "import sys\n",
    "\n",
    "os.environ['PYSPARK_PYTHON'] = sys.executable\n",
    "os.environ['PYSPARK_DRIVER_PYTHON'] = sys.executable\n",
    "\n",
    "# Initialize Spark session\n",
    "spark = (SparkSession.builder.appName(\"DataProcessingApp\")\n",
    "         .config(\"spark.executor.memory\", \"8g\")\n",
    "         .config(\"spark.driver.memory\", \"8g\")\n",
    "         .config(\"spark.driver.maxResultSize\", \"4g\")\n",
    "         .getOrCreate())\n",
    "spark.sparkContext.setLogLevel(\"DEBUG\")\n",
    "\n",
    "# Read the CSV file into a DataFrame\n",
    "df = spark.read.csv('../data/US_Accidents_March23_cleaned.csv', header=True, inferSchema=True)\n",
    "df.show(5)"
   ],
   "outputs": [
    {
     "name": "stdout",
     "output_type": "stream",
     "text": [
      "+---+--------+-------------------+-------------------+------------------+-------------------+-------+-------+------------+--------------------+--------------+---------------+----------+-----+-------------------+--------------+-------------+-----------+------------+--------------+--------------+---------------+-----------------+-----------------+-------+-----+--------+--------+--------+-------+-------+----------+-------+-----+---------------+--------------+------------+--------------+--------------+-----------------+---------------------+\n",
      "| ID|Severity|         Start_Time|           End_Time|         Start_Lat|          Start_Lng|End_Lat|End_Lng|Distance(mi)|         Description|        Street|           City|    County|State|  Weather_Timestamp|Temperature(F)|Wind_Chill(F)|Humidity(%)|Pressure(in)|Visibility(mi)|Wind_Direction|Wind_Speed(mph)|Precipitation(in)|Weather_Condition|Amenity| Bump|Crossing|Give_Way|Junction|No_Exit|Railway|Roundabout|Station| Stop|Traffic_Calming|Traffic_Signal|Turning_Loop|Sunrise_Sunset|Civil_Twilight|Nautical_Twilight|Astronomical_Twilight|\n",
      "+---+--------+-------------------+-------------------+------------------+-------------------+-------+-------+------------+--------------------+--------------+---------------+----------+-----+-------------------+--------------+-------------+-----------+------------+--------------+--------------+---------------+-----------------+-----------------+-------+-----+--------+--------+--------+-------+-------+----------+-------+-----+---------------+--------------+------------+--------------+--------------+-----------------+---------------------+\n",
      "|  1|       3|2016-02-08 05:46:00|2016-02-08 11:00:00|         39.865147|         -84.058723|   NULL|   NULL|        0.01|Right lane blocke...|        I-70 E|         Dayton|Montgomery|   OH|2016-02-08 05:58:00|          36.9|         NULL|       91.0|       29.68|          10.0|          Calm|           NULL|             0.02|             Rain|  false|false|   false|   false|   false|  false|  false|     false|  false|false|          false|         false|       false|         Night|         Night|            Night|                Night|\n",
      "|  2|       3|2016-02-08 08:10:04|2016-02-08 08:40:04|40.100590000000004| -82.92519399999998|   NULL|   NULL|        0.01|Right hand should...|Westerville Rd|    Westerville|  Franklin|   OH|2016-02-08 08:28:00|          37.4|         33.8|      100.0|       29.62|           3.0|             S|            4.6|             0.02|             Rain|  false|false|   false|   false|   false|  false|  false|     false|  false|false|          false|         false|       false|           Day|           Day|              Day|                  Day|\n",
      "|  3|       2|2016-02-11 08:13:24|2016-02-11 08:43:24|         39.749916|         -84.139359|   NULL|   NULL|        0.01|Accident on US-35...|       US-35 E|         Dayton|Montgomery|   OH|2016-02-11 07:58:00|           7.5|         -1.1|       87.0|       30.28|          10.0|             S|            4.6|             NULL|           Cloudy|  false|false|   false|   false|   false|  false|  false|     false|  false|false|          false|         false|       false|           Day|           Day|              Day|                  Day|\n",
      "|  4|       2|2016-06-23 10:31:12|2016-06-23 11:01:12|         38.653061|-121.07054099999999|   NULL|   NULL|         0.0|Accident on US-50...|    Latrobe Rd|El Dorado Hills| El Dorado|   CA|2016-06-23 10:46:00|          77.0|         NULL|       34.0|       30.02|          10.0|            SW|            3.5|             NULL|            Clear|  false|false|   false|   false|   false|  false|  false|     false|  false|false|          false|         false|       false|           Day|           Day|              Day|                  Day|\n",
      "|  5|       3|2017-01-06 16:22:04|2017-01-06 16:51:29|         38.574406|        -121.577354|   NULL|   NULL|        0.01|Right hand should...|        I-80 W|West Sacramento|      Yolo|   CA|2017-01-06 15:53:00|          46.0|         41.9|       71.0|       30.09|          10.0|            NW|            8.1|             NULL|            Clear|  false|false|   false|   false|   false|  false|  false|     false|  false|false|          false|         false|       false|           Day|           Day|              Day|                  Day|\n",
      "+---+--------+-------------------+-------------------+------------------+-------------------+-------+-------+------------+--------------------+--------------+---------------+----------+-----+-------------------+--------------+-------------+-----------+------------+--------------+--------------+---------------+-----------------+-----------------+-------+-----+--------+--------+--------+-------+-------+----------+-------+-----+---------------+--------------+------------+--------------+--------------+-----------------+---------------------+\n",
      "only showing top 5 rows\n",
      "\n"
     ]
    }
   ],
   "execution_count": 2
  },
  {
   "metadata": {
    "ExecuteTime": {
     "end_time": "2024-11-25T09:54:28.492870Z",
     "start_time": "2024-11-25T09:54:28.013230Z"
    }
   },
   "cell_type": "code",
   "source": [
    "from pyspark.sql.functions import col, year, month, dayofmonth, dayofweek, hour, minute\n",
    "\n",
    "# Convert Start_Time to timestamp (if not already)\n",
    "df = df.withColumn(\"Start_Time\", col(\"Start_Time\").cast(\"timestamp\"))\n",
    "\n",
    "df = df.withColumn(\"Year\", year(col(\"Start_Time\"))).withColumn(\"Month\", month(col(\"Start_Time\"))).withColumn(\"Weekday\", dayofweek(col(\"Start_Time\")).cast(\"int\") - 2).withColumn(\"Day\", dayofmonth(col(\"Start_Time\")))\n",
    "\n",
    "# Extract hour and minute\n",
    "df = df.withColumn(\"Hour\", hour(col(\"Start_Time\"))) \\\n",
    "       .withColumn(\"Minute\", minute(col(\"Start_Time\")))\n",
    "df.show(5)"
   ],
   "id": "b470096e6c70f5a5",
   "outputs": [
    {
     "name": "stdout",
     "output_type": "stream",
     "text": [
      "+---+--------+-------------------+-------------------+------------------+-------------------+-------+-------+------------+--------------------+--------------+---------------+----------+-----+-------------------+--------------+-------------+-----------+------------+--------------+--------------+---------------+-----------------+-----------------+-------+-----+--------+--------+--------+-------+-------+----------+-------+-----+---------------+--------------+------------+--------------+--------------+-----------------+---------------------+----+-----+-------+---+----+------+\n",
      "| ID|Severity|         Start_Time|           End_Time|         Start_Lat|          Start_Lng|End_Lat|End_Lng|Distance(mi)|         Description|        Street|           City|    County|State|  Weather_Timestamp|Temperature(F)|Wind_Chill(F)|Humidity(%)|Pressure(in)|Visibility(mi)|Wind_Direction|Wind_Speed(mph)|Precipitation(in)|Weather_Condition|Amenity| Bump|Crossing|Give_Way|Junction|No_Exit|Railway|Roundabout|Station| Stop|Traffic_Calming|Traffic_Signal|Turning_Loop|Sunrise_Sunset|Civil_Twilight|Nautical_Twilight|Astronomical_Twilight|Year|Month|Weekday|Day|Hour|Minute|\n",
      "+---+--------+-------------------+-------------------+------------------+-------------------+-------+-------+------------+--------------------+--------------+---------------+----------+-----+-------------------+--------------+-------------+-----------+------------+--------------+--------------+---------------+-----------------+-----------------+-------+-----+--------+--------+--------+-------+-------+----------+-------+-----+---------------+--------------+------------+--------------+--------------+-----------------+---------------------+----+-----+-------+---+----+------+\n",
      "|  1|       3|2016-02-08 05:46:00|2016-02-08 11:00:00|         39.865147|         -84.058723|   NULL|   NULL|        0.01|Right lane blocke...|        I-70 E|         Dayton|Montgomery|   OH|2016-02-08 05:58:00|          36.9|         NULL|       91.0|       29.68|          10.0|          Calm|           NULL|             0.02|             Rain|  false|false|   false|   false|   false|  false|  false|     false|  false|false|          false|         false|       false|         Night|         Night|            Night|                Night|2016|    2|      0|  8|   5|    46|\n",
      "|  2|       3|2016-02-08 08:10:04|2016-02-08 08:40:04|40.100590000000004| -82.92519399999998|   NULL|   NULL|        0.01|Right hand should...|Westerville Rd|    Westerville|  Franklin|   OH|2016-02-08 08:28:00|          37.4|         33.8|      100.0|       29.62|           3.0|             S|            4.6|             0.02|             Rain|  false|false|   false|   false|   false|  false|  false|     false|  false|false|          false|         false|       false|           Day|           Day|              Day|                  Day|2016|    2|      0|  8|   8|    10|\n",
      "|  3|       2|2016-02-11 08:13:24|2016-02-11 08:43:24|         39.749916|         -84.139359|   NULL|   NULL|        0.01|Accident on US-35...|       US-35 E|         Dayton|Montgomery|   OH|2016-02-11 07:58:00|           7.5|         -1.1|       87.0|       30.28|          10.0|             S|            4.6|             NULL|           Cloudy|  false|false|   false|   false|   false|  false|  false|     false|  false|false|          false|         false|       false|           Day|           Day|              Day|                  Day|2016|    2|      3| 11|   8|    13|\n",
      "|  4|       2|2016-06-23 10:31:12|2016-06-23 11:01:12|         38.653061|-121.07054099999999|   NULL|   NULL|         0.0|Accident on US-50...|    Latrobe Rd|El Dorado Hills| El Dorado|   CA|2016-06-23 10:46:00|          77.0|         NULL|       34.0|       30.02|          10.0|            SW|            3.5|             NULL|            Clear|  false|false|   false|   false|   false|  false|  false|     false|  false|false|          false|         false|       false|           Day|           Day|              Day|                  Day|2016|    6|      3| 23|  10|    31|\n",
      "|  5|       3|2017-01-06 16:22:04|2017-01-06 16:51:29|         38.574406|        -121.577354|   NULL|   NULL|        0.01|Right hand should...|        I-80 W|West Sacramento|      Yolo|   CA|2017-01-06 15:53:00|          46.0|         41.9|       71.0|       30.09|          10.0|            NW|            8.1|             NULL|            Clear|  false|false|   false|   false|   false|  false|  false|     false|  false|false|          false|         false|       false|           Day|           Day|              Day|                  Day|2017|    1|      4|  6|  16|    22|\n",
      "+---+--------+-------------------+-------------------+------------------+-------------------+-------+-------+------------+--------------------+--------------+---------------+----------+-----+-------------------+--------------+-------------+-----------+------------+--------------+--------------+---------------+-----------------+-----------------+-------+-----+--------+--------+--------+-------+-------+----------+-------+-----+---------------+--------------+------------+--------------+--------------+-----------------+---------------------+----+-----+-------+---+----+------+\n",
      "only showing top 5 rows\n",
      "\n"
     ]
    }
   ],
   "execution_count": 3
  },
  {
   "metadata": {
    "ExecuteTime": {
     "end_time": "2024-11-25T09:54:28.766872Z",
     "start_time": "2024-11-25T09:54:28.522847Z"
    }
   },
   "cell_type": "code",
   "source": [
    "features_to_drop = [\"ID\", \"Start_Time\", \"End_Time\", \"End_Lat\", \"End_Lng\", \"Description\", \"Street\", \"County\", \"Zipcode\", \"Weather_Timestamp\", \"Wind_Chill(F)\", \"Turning_Loop\", \"Sunrise_Sunset\", \"Nautical_Twilight\", \"Astronomical_Twilight\"]\n",
    "df = df.drop(*features_to_drop)\n",
    "df.show(5)"
   ],
   "id": "981ef70349e57226",
   "outputs": [
    {
     "name": "stdout",
     "output_type": "stream",
     "text": [
      "+--------+------------------+-------------------+------------+---------------+-----+--------------+-----------+------------+--------------+--------------+---------------+-----------------+-----------------+-------+-----+--------+--------+--------+-------+-------+----------+-------+-----+---------------+--------------+--------------+----+-----+-------+---+----+------+\n",
      "|Severity|         Start_Lat|          Start_Lng|Distance(mi)|           City|State|Temperature(F)|Humidity(%)|Pressure(in)|Visibility(mi)|Wind_Direction|Wind_Speed(mph)|Precipitation(in)|Weather_Condition|Amenity| Bump|Crossing|Give_Way|Junction|No_Exit|Railway|Roundabout|Station| Stop|Traffic_Calming|Traffic_Signal|Civil_Twilight|Year|Month|Weekday|Day|Hour|Minute|\n",
      "+--------+------------------+-------------------+------------+---------------+-----+--------------+-----------+------------+--------------+--------------+---------------+-----------------+-----------------+-------+-----+--------+--------+--------+-------+-------+----------+-------+-----+---------------+--------------+--------------+----+-----+-------+---+----+------+\n",
      "|       3|         39.865147|         -84.058723|        0.01|         Dayton|   OH|          36.9|       91.0|       29.68|          10.0|          Calm|           NULL|             0.02|             Rain|  false|false|   false|   false|   false|  false|  false|     false|  false|false|          false|         false|         Night|2016|    2|      0|  8|   5|    46|\n",
      "|       3|40.100590000000004| -82.92519399999998|        0.01|    Westerville|   OH|          37.4|      100.0|       29.62|           3.0|             S|            4.6|             0.02|             Rain|  false|false|   false|   false|   false|  false|  false|     false|  false|false|          false|         false|           Day|2016|    2|      0|  8|   8|    10|\n",
      "|       2|         39.749916|         -84.139359|        0.01|         Dayton|   OH|           7.5|       87.0|       30.28|          10.0|             S|            4.6|             NULL|           Cloudy|  false|false|   false|   false|   false|  false|  false|     false|  false|false|          false|         false|           Day|2016|    2|      3| 11|   8|    13|\n",
      "|       2|         38.653061|-121.07054099999999|         0.0|El Dorado Hills|   CA|          77.0|       34.0|       30.02|          10.0|            SW|            3.5|             NULL|            Clear|  false|false|   false|   false|   false|  false|  false|     false|  false|false|          false|         false|           Day|2016|    6|      3| 23|  10|    31|\n",
      "|       3|         38.574406|        -121.577354|        0.01|West Sacramento|   CA|          46.0|       71.0|       30.09|          10.0|            NW|            8.1|             NULL|            Clear|  false|false|   false|   false|   false|  false|  false|     false|  false|false|          false|         false|           Day|2017|    1|      4|  6|  16|    22|\n",
      "+--------+------------------+-------------------+------------+---------------+-----+--------------+-----------+------------+--------------+--------------+---------------+-----------------+-----------------+-------+-----+--------+--------+--------+-------+-------+----------+-------+-----+---------------+--------------+--------------+----+-----+-------+---+----+------+\n",
      "only showing top 5 rows\n",
      "\n"
     ]
    }
   ],
   "execution_count": 4
  },
  {
   "metadata": {
    "ExecuteTime": {
     "end_time": "2024-11-25T09:54:28.793951Z",
     "start_time": "2024-11-25T09:54:28.778424Z"
    }
   },
   "cell_type": "code",
   "source": "df = df.drop_duplicates()",
   "id": "cbfe33c89d66d0d2",
   "outputs": [],
   "execution_count": 5
  },
  {
   "metadata": {
    "ExecuteTime": {
     "end_time": "2024-11-25T09:56:13.658122Z",
     "start_time": "2024-11-25T09:54:28.849498Z"
    }
   },
   "cell_type": "code",
   "source": [
    "from pyspark.sql.functions import col, mean\n",
    "\n",
    "# List of columns to fill with mean\n",
    "features_to_fill = [\"Temperature(F)\", \"Humidity(%)\", \"Pressure(in)\", \"Visibility(mi)\", \"Wind_Speed(mph)\", \"Precipitation(in)\"]\n",
    "\n",
    "# Fill missing values with mean for specified columns\n",
    "for feature in features_to_fill:\n",
    "    mean_value = df.select(mean(col(feature))).collect()[0][0]\n",
    "    df = df.fillna({feature: mean_value})\n",
    "\n",
    "# Drop rows with any remaining missing values\n",
    "df = df.dropna()\n",
    "df.show(5)"
   ],
   "id": "111c6cf13fa9690e",
   "outputs": [
    {
     "name": "stdout",
     "output_type": "stream",
     "text": [
      "+--------+------------------+------------------+------------------+------------+-----+--------------+-----------+------------+--------------+--------------+---------------+-----------------+-----------------+-------+-----+--------+--------+--------+-------+-------+----------+-------+-----+---------------+--------------+--------------+----+-----+-------+---+----+------+\n",
      "|Severity|         Start_Lat|         Start_Lng|      Distance(mi)|        City|State|Temperature(F)|Humidity(%)|Pressure(in)|Visibility(mi)|Wind_Direction|Wind_Speed(mph)|Precipitation(in)|Weather_Condition|Amenity| Bump|Crossing|Give_Way|Junction|No_Exit|Railway|Roundabout|Station| Stop|Traffic_Calming|Traffic_Signal|Civil_Twilight|Year|Month|Weekday|Day|Hour|Minute|\n",
      "+--------+------------------+------------------+------------------+------------+-----+--------------+-----------+------------+--------------+--------------+---------------+-----------------+-----------------+-------+-----+--------+--------+--------+-------+-------+----------+-------+-----+---------------+--------------+--------------+----+-----+-------+---+----+------+\n",
      "|       2|         38.934689|        -77.533043|               0.0|   Chantilly|   VA|          62.0|       52.0|       29.71|          10.0|      Variable|            6.0|              0.0|            Clear|  false|false|   false|   false|   false|  false|  false|     false|  false|false|          false|          true|           Day|2021|    6|      3| 17|   7|    56|\n",
      "|       3|         39.795517|-86.16532099999998|               0.0|Indianapolis|   IN|          85.0|       32.0|       29.09|          10.0|             S|            6.0|              0.0|            Clear|  false|false|   false|   false|   false|  false|  false|     false|  false|false|          false|         false|           Day|2021|    6|      3| 17|  18|    38|\n",
      "|       2|         35.170509|        -80.954391|               0.0|   Charlotte|   NC|          84.0|       25.0|       29.24|          10.0|            NW|            3.0|              0.0|           Cloudy|  false|false|   false|   false|   false|  false|  false|     false|  false|false|          false|         false|           Day|2021|    6|      3| 17|  17|    32|\n",
      "|       2|          25.96957|        -80.297241|1.7000000476837158|   Hollywood|   FL|          71.0|      100.0|       29.99|          10.0|          Calm|            0.0|              0.0|            Clear|  false|false|   false|   false|   false|  false|  false|     false|  false|false|          false|         false|         Night|2021|    6|      3| 17|   4|     4|\n",
      "|       2|32.320609999999995|        -86.235237|               0.0|  Montgomery|   AL|          89.0|       29.0|       29.79|          10.0|             N|            7.0|              0.0|            Clear|  false|false|   false|   false|   false|  false|  false|     false|  false|false|          false|         false|           Day|2021|    6|      3| 17|  18|     1|\n",
      "+--------+------------------+------------------+------------------+------------+-----+--------------+-----------+------------+--------------+--------------+---------------+-----------------+-----------------+-------+-----+--------+--------+--------+-------+-------+----------+-------+-----+---------------+--------------+--------------+----+-----+-------+---+----+------+\n",
      "only showing top 5 rows\n",
      "\n"
     ]
    }
   ],
   "execution_count": 6
  },
  {
   "metadata": {
    "ExecuteTime": {
     "end_time": "2024-11-25T09:56:38.593547Z",
     "start_time": "2024-11-25T09:56:22.035663Z"
    }
   },
   "cell_type": "code",
   "source": [
    "from pyspark.sql.functions import count, when\n",
    "\n",
    "df.select([count(when(col(c).isNull(), 1)).alias(f\"{c}_null_count\") for c in df.columns]).show()"
   ],
   "id": "d1b6c4509c39cf73",
   "outputs": [
    {
     "name": "stdout",
     "output_type": "stream",
     "text": [
      "+-------------------+--------------------+--------------------+-----------------------+---------------+----------------+-------------------------+----------------------+-----------------------+-------------------------+-------------------------+--------------------------+----------------------------+----------------------------+------------------+---------------+-------------------+-------------------+-------------------+------------------+------------------+---------------------+------------------+---------------+--------------------------+-------------------------+-------------------------+---------------+----------------+------------------+--------------+---------------+-----------------+\n",
      "|Severity_null_count|Start_Lat_null_count|Start_Lng_null_count|Distance(mi)_null_count|City_null_count|State_null_count|Temperature(F)_null_count|Humidity(%)_null_count|Pressure(in)_null_count|Visibility(mi)_null_count|Wind_Direction_null_count|Wind_Speed(mph)_null_count|Precipitation(in)_null_count|Weather_Condition_null_count|Amenity_null_count|Bump_null_count|Crossing_null_count|Give_Way_null_count|Junction_null_count|No_Exit_null_count|Railway_null_count|Roundabout_null_count|Station_null_count|Stop_null_count|Traffic_Calming_null_count|Traffic_Signal_null_count|Civil_Twilight_null_count|Year_null_count|Month_null_count|Weekday_null_count|Day_null_count|Hour_null_count|Minute_null_count|\n",
      "+-------------------+--------------------+--------------------+-----------------------+---------------+----------------+-------------------------+----------------------+-----------------------+-------------------------+-------------------------+--------------------------+----------------------------+----------------------------+------------------+---------------+-------------------+-------------------+-------------------+------------------+------------------+---------------------+------------------+---------------+--------------------------+-------------------------+-------------------------+---------------+----------------+------------------+--------------+---------------+-----------------+\n",
      "|                  0|                   0|                   0|                      0|              0|               0|                        0|                     0|                      0|                        0|                        0|                         0|                           0|                           0|                 0|              0|                  0|                  0|                  0|                 0|                 0|                    0|                 0|              0|                         0|                        0|                        0|              0|               0|                 0|             0|              0|                0|\n",
      "+-------------------+--------------------+--------------------+-----------------------+---------------+----------------+-------------------------+----------------------+-----------------------+-------------------------+-------------------------+--------------------------+----------------------------+----------------------------+------------------+---------------+-------------------+-------------------+-------------------+------------------+------------------+---------------------+------------------+---------------+--------------------------+-------------------------+-------------------------+---------------+----------------+------------------+--------------+---------------+-----------------+\n",
      "\n"
     ]
    }
   ],
   "execution_count": 7
  },
  {
   "metadata": {
    "ExecuteTime": {
     "end_time": "2024-11-25T09:58:25.266335Z",
     "start_time": "2024-11-25T09:57:49.187449Z"
    }
   },
   "cell_type": "code",
   "source": "df.describe().show()",
   "id": "544eae09f5600091",
   "outputs": [
    {
     "name": "stdout",
     "output_type": "stream",
     "text": [
      "+-------+------------------+-----------------+------------------+------------------+----------+-------+------------------+------------------+------------------+-----------------+--------------+------------------+--------------------+-----------------+--------------+------------------+------------------+------------------+------------------+------------------+------------------+\n",
      "|summary|          Severity|        Start_Lat|         Start_Lng|      Distance(mi)|      City|  State|    Temperature(F)|       Humidity(%)|      Pressure(in)|   Visibility(mi)|Wind_Direction|   Wind_Speed(mph)|   Precipitation(in)|Weather_Condition|Civil_Twilight|              Year|             Month|           Weekday|               Day|              Hour|            Minute|\n",
      "+-------+------------------+-----------------+------------------+------------------+----------+-------+------------------+------------------+------------------+-----------------+--------------+------------------+--------------------+-----------------+--------------+------------------+------------------+------------------+------------------+------------------+------------------+\n",
      "|  count|           6288857|          6288857|           6288857|           6288857|   6288857|6288857|           6288857|           6288857|           6288857|          6288857|       6288857|           6288857|             6288857|          6288857|       6288857|           6288857|           6288857|           6288857|           6288857|           6288857|           6288857|\n",
      "|   mean| 2.203159334041146|36.09173860363817|-94.20656263659876|0.5613754648947693|      NULL|   NULL|61.781307836497845| 64.92083959757058|29.551965463067745|9.088906276274022|          NULL|7.7273343764148725|0.008549940075641384|             NULL|          NULL| 2019.896123254194| 6.551167088073397| 2.089853370811262|15.708372284502573|12.320383179328136|29.794337826412654|\n",
      "| stddev|0.4723436719766249|5.049918293286267|17.107777502555315|1.7827670617011961|      NULL|   NULL|18.975925799784747|22.694843938611072|0.9828385768860008|2.657697032560151|          NULL| 5.289593172138396| 0.09293876567376368|             NULL|          NULL|1.9644655536298887|3.6207475183650444|1.7594938354261693| 8.664473595859237| 5.440927257989247| 17.24704698863116|\n",
      "|    min|                 1|          24.5548|       -124.623833|               0.0|Aaronsburg|     AL|             -89.0|               1.0|               0.0|              0.0|          Calm|               0.0|                 0.0|            Clear|           Day|              2016|                 1|                -1|                 1|                 0|                 0|\n",
      "|    max|                 4|        49.002201|        -67.113167|            441.75|   Zwingle|     WY|             207.0|             100.0|             58.63|            140.0|             W|            1087.0|               36.47|            Windy|         Night|              2023|                12|                 5|                31|                23|                59|\n",
      "+-------+------------------+-----------------+------------------+------------------+----------+-------+------------------+------------------+------------------+-----------------+--------------+------------------+--------------------+-----------------+--------------+------------------+------------------+------------------+------------------+------------------+------------------+\n",
      "\n"
     ]
    }
   ],
   "execution_count": 8
  },
  {
   "metadata": {
    "ExecuteTime": {
     "end_time": "2024-11-25T10:01:16.420800Z",
     "start_time": "2024-11-25T10:00:59.720958Z"
    }
   },
   "cell_type": "code",
   "source": [
    "# Calculate the severity counts\n",
    "severity_counts = df.groupBy(\"Severity\").count().orderBy(\"Severity\")\n",
    "\n",
    "# Convert to Pandas DataFrame for visualization\n",
    "severity_counts_pd = severity_counts.toPandas()\n",
    "\n",
    "# Plot using Seaborn and Matplotlib\n",
    "import matplotlib.pyplot as plt\n",
    "import seaborn as sns\n",
    "\n",
    "plt.figure(figsize=(10, 8))\n",
    "plt.title(\"Histogram for the Severity\")\n",
    "sns.barplot(x=severity_counts_pd[\"Severity\"], y=severity_counts_pd[\"count\"])\n",
    "plt.xlabel(\"Severity\")\n",
    "plt.ylabel(\"Value\")\n",
    "plt.show()"
   ],
   "id": "358a5faaef3cb055",
   "outputs": [
    {
     "data": {
      "text/plain": [
       "<Figure size 1000x800 with 1 Axes>"
      ],
      "image/png": "[encoded data removed]"
     },
     "metadata": {},
     "output_type": "display_data"
    }
   ],
   "execution_count": 9
  },
  {
   "metadata": {
    "ExecuteTime": {
     "end_time": "2024-11-25T10:03:59.038217Z",
     "start_time": "2024-11-25T10:03:34.450671Z"
    }
   },
   "cell_type": "code",
   "source": [
    "from pyspark.sql.functions import rand, row_number\n",
    "from pyspark.sql.window import Window\n",
    "\n",
    "# Step 1: Determine the sample size for Severity == 1\n",
    "size = df.filter(col(\"Severity\") == 1).count()\n",
    "\n",
    "# Step 2: Define a window specification to create row numbers within each severity group\n",
    "window_spec = Window.partitionBy(\"Severity\").orderBy(rand())  # Randomize the row numbers\n",
    "\n",
    "# Step 3: Add a row number column and filter rows based on the sample size\n",
    "df_with_row_number = df.withColumn(\"row_num\", row_number().over(window_spec))\n",
    "\n",
    "# Step 4: Filter rows to only include those with row numbers less than or equal to the sample size\n",
    "balanced_df = df_with_row_number.filter(col(\"row_num\") <= size).drop(\"row_num\")\n",
    "\n",
    "balanced_df.show(5)"
   ],
   "id": "ba225c3fb87381f8",
   "outputs": [
    {
     "name": "stdout",
     "output_type": "stream",
     "text": [
      "+--------+-----------------+-------------------+------------------+----------+-----+--------------+-----------+------------+--------------+--------------+---------------+-----------------+-----------------+-------+-----+--------+--------+--------+-------+-------+----------+-------+-----+---------------+--------------+--------------+----+-----+-------+---+----+------+\n",
      "|Severity|        Start_Lat|          Start_Lng|      Distance(mi)|      City|State|Temperature(F)|Humidity(%)|Pressure(in)|Visibility(mi)|Wind_Direction|Wind_Speed(mph)|Precipitation(in)|Weather_Condition|Amenity| Bump|Crossing|Give_Way|Junction|No_Exit|Railway|Roundabout|Station| Stop|Traffic_Calming|Traffic_Signal|Civil_Twilight|Year|Month|Weekday|Day|Hour|Minute|\n",
      "+--------+-----------------+-------------------+------------------+----------+-----+--------------+-----------+------------+--------------+--------------+---------------+-----------------+-----------------+-------+-----+--------+--------+--------+-------+-------+----------+-------+-----+---------------+--------------+--------------+----+-----+-------+---+----+------+\n",
      "|       1|         37.62278|         -77.511887|               0.0|   Henrico|   VA|          67.0|       70.0|       29.96|          10.0|      Variable|            3.0|              0.0|            Clear|  false|false|   false|   false|   false|  false|  false|     false|  false|false|          false|         false|           Day|2022|    5|      0| 23|   6|    58|\n",
      "|       1|         37.50505|          -77.50455|               0.0|  Richmond|   VA|          60.0|       93.0|       29.45|          10.0|             N|            9.0|             0.04|             Rain|  false|false|    true|   false|   false|  false|  false|     false|  false|false|          false|          true|           Day|2020|    4|      4| 24|  18|    14|\n",
      "|       1|          25.7866|          -80.21251|               0.0|     Miami|   FL|          92.0|       54.0|       30.04|          10.0|             E|           10.0|              0.0|           Cloudy|  false|false|   false|   false|   false|  false|  false|     false|  false|false|          false|         false|           Day|2020|    6|      5| 27|  16|    43|\n",
      "|       1|39.85339000000001|-105.08173400000001|               0.0|    Arvada|   CO|          66.0|       56.0|       24.57|          10.0|             N|            7.0|              0.0|            Clear|  false|false|    true|   false|   false|  false|  false|     false|   true|false|          false|          true|           Day|2022|    7|      1| 12|   8|    21|\n",
      "|       1|         26.61352|         -81.804558|1.4600000381469729|Fort Myers|   FL|          79.0|       84.0|       30.13|          10.0|             E|            3.0|              0.0|            Clear|  false|false|   false|   false|   false|  false|  false|     false|  false|false|          false|         false|         Night|2022|    8|      0|  1|   5|    20|\n",
      "+--------+-----------------+-------------------+------------------+----------+-----+--------------+-----------+------------+--------------+--------------+---------------+-----------------+-----------------+-------+-----+--------+--------+--------+-------+-------+----------+-------+-----+---------------+--------------+--------------+----+-----+-------+---+----+------+\n",
      "only showing top 5 rows\n",
      "\n"
     ]
    }
   ],
   "execution_count": 10
  },
  {
   "metadata": {
    "ExecuteTime": {
     "end_time": "2024-11-25T10:05:48.129744Z",
     "start_time": "2024-11-25T10:05:19.752785Z"
    }
   },
   "cell_type": "code",
   "source": [
    "# Calculate the severity counts\n",
    "severity_counts = balanced_df.groupBy(\"Severity\").count().orderBy(\"Severity\")\n",
    "severity_counts_pd = severity_counts.toPandas()\n",
    "\n",
    "plt.figure(figsize=(10, 8))\n",
    "plt.title(\"Histogram for the Severity\")\n",
    "sns.barplot(x=severity_counts_pd[\"Severity\"], y=severity_counts_pd[\"count\"])\n",
    "plt.xlabel(\"Severity\")\n",
    "plt.ylabel(\"Value\")\n",
    "plt.show()"
   ],
   "id": "9df3b53bcfd7b37",
   "outputs": [
    {
     "data": {
      "text/plain": [
       "<Figure size 1000x800 with 1 Axes>"
      ],
      "image/png": "[encoded data removed]"
     },
     "metadata": {},
     "output_type": "display_data"
    }
   ],
   "execution_count": 12
  },
  {
   "metadata": {
    "ExecuteTime": {
     "end_time": "2024-11-25T10:25:11.286898Z",
     "start_time": "2024-11-25T10:25:11.284063Z"
    }
   },
   "cell_type": "code",
   "source": "df = balanced_df",
   "id": "f2d5ec6adfa625d1",
   "outputs": [],
   "execution_count": 18
  },
  {
   "metadata": {
    "ExecuteTime": {
     "end_time": "2024-11-25T10:25:40.738733Z",
     "start_time": "2024-11-25T10:25:18.179517Z"
    }
   },
   "cell_type": "code",
   "source": "df.toPandas().to_csv('../data/US_Accidents_March23_balanced.csv', index=False)",
   "id": "783af69cad2c679d",
   "outputs": [],
   "execution_count": 19
  },
  {
   "metadata": {},
   "cell_type": "code",
   "outputs": [],
   "execution_count": null,
   "source": "",
   "id": "cbe4f7603315449c"
  }
 ],
 "metadata": {
  "kernelspec": {
   "display_name": "Python 3",
   "language": "python",
   "name": "python3"
  },
  "language_info": {
   "codemirror_mode": {
    "name": "ipython",
    "version": 2
   },
   "file_extension": ".py",
   "mimetype": "text/x-python",
   "name": "python",
   "nbconvert_exporter": "python",
   "pygments_lexer": "ipython2",
   "version": "2.7.6"
  }
 },
 "nbformat": 4,
 "nbformat_minor": 5
}
